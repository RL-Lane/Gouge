{
 "cells": [
  {
   "cell_type": "code",
   "execution_count": 1,
   "id": "480fdd9f",
   "metadata": {},
   "outputs": [],
   "source": [
    "import pandas as pd\n",
    "from splinter import Browser\n",
    "from bs4 import BeautifulSoup as bs\n",
    "from webdriver_manager.chrome import ChromeDriverManager\n",
    "import time \n",
    "import requests"
   ]
  },
  {
   "cell_type": "code",
   "execution_count": 2,
   "id": "da3f1e84",
   "metadata": {},
   "outputs": [
    {
     "name": "stdout",
     "output_type": "stream",
     "text": [
      "\n"
     ]
    },
    {
     "name": "stderr",
     "output_type": "stream",
     "text": [
      "[WDM] - ====== WebDriver manager ======\n",
      "[WDM] - Current google-chrome version is 103.0.5060\n",
      "[WDM] - Get LATEST chromedriver version for 103.0.5060 google-chrome\n",
      "[WDM] - Driver [C:\\Users\\Rob\\.wdm\\drivers\\chromedriver\\win32\\103.0.5060.53\\chromedriver.exe] found in cache\n"
     ]
    }
   ],
   "source": [
    "# Setup splinter\n",
    "executable_path = {'executable_path': ChromeDriverManager().install()}\n",
    "browser = Browser('chrome', **executable_path, headless=False)"
   ]
  },
  {
   "cell_type": "code",
   "execution_count": 5,
   "id": "0f60cc36",
   "metadata": {},
   "outputs": [],
   "source": [
    "url_df = pd.read_csv(\"../Resources/base_url_list.csv\")\n",
    "\n",
    "url_df\n",
    "url_list = url_df[\"urls\"] "
   ]
  },
  {
   "cell_type": "code",
   "execution_count": 6,
   "id": "1bfba224",
   "metadata": {},
   "outputs": [
    {
     "name": "stdout",
     "output_type": "stream",
     "text": [
      "https://www.cargurus.com/Cars/new/searchresults.action?zip=76012&showNegotiable=true&sortDir=ASC&sourceContext=homePageNewCarTab_false_0&distance=50&sortType=PRICE&entitySelectingHelper.selectedEntity=d320\n",
      "\n",
      "https://www.cargurus.com/Cars/new/searchresults.action?zip=76012&showNegotiable=true&sortDir=ASC&sourceContext=homePageNewCarTab_false_0&distance=50&sortType=PRICE&entitySelectingHelper.selectedEntity=d320#resultsPage=2\n",
      "\n",
      "https://www.cargurus.com/Cars/new/searchresults.action?zip=76012&showNegotiable=true&sortDir=ASC&sourceContext=homePageNewCarTab_false_0&distance=50&sortType=PRICE&entitySelectingHelper.selectedEntity=d320#resultsPage=3\n",
      "\n",
      "https://www.cargurus.com/Cars/new/searchresults.action?zip=76012&showNegotiable=true&sortDir=ASC&sourceContext=homePageNewCarTab_false_0&distance=50&sortType=PRICE&entitySelectingHelper.selectedEntity=d320#resultsPage=4\n",
      "\n",
      "https://www.cargurus.com/Cars/new/searchresults.action?zip=76012&showNegotiable=true&sortDir=ASC&sourceContext=homePageNewCarTab_false_0&distance=50&sortType=PRICE&entitySelectingHelper.selectedEntity=d320#resultsPage=5\n",
      "\n"
     ]
    }
   ],
   "source": [
    "# Take list of urls generated in step one.  For each url in step 1, \n",
    "# this generates a list of pages for step 2 scraping\n",
    "\n",
    "url_step_2_list = []\n",
    "\n",
    "for url in url_list:\n",
    "    \n",
    "    browser.visit(url)\n",
    "    \n",
    "    \n",
    "    # finds the number of pages needed to visit in this subset\n",
    "    \n",
    "    spans = browser.find_by_tag(\"span\")\n",
    "\n",
    "    for span in spans:\n",
    "        if \"</strong> of <strong>\" in span.html:\n",
    "            page_counter_html = span.html\n",
    "    page_results = int(page_counter_html.split(\" - \")[1].split(\"</strong>\")[0])\n",
    "    total_results = int(page_counter_html.split(\"of <strong>\")[1].split(\"</strong>\")[0])\n",
    "\n",
    "    results_mod = total_results % page_results\n",
    "    numpages = int(total_results / page_results)\n",
    "    if results_mod != 0:\n",
    "        numpages += 1\n",
    "\n",
    "        \n",
    "    # generate suffixes to add to base url\n",
    "    suffixes = ['']\n",
    "    for i in range(1,numpages):\n",
    "        suffixes.append(f'#resultsPage={i+1}')\n",
    "    suffixes\n",
    "    \n",
    "    for suffix in suffixes:\n",
    "        url_step_2_list.append(url + suffix)\n",
    "\n",
    "for url in url_step_2_list:\n",
    "    print(url)\n",
    "    print()"
   ]
  },
  {
   "cell_type": "code",
   "execution_count": 9,
   "id": "e44f07af",
   "metadata": {},
   "outputs": [],
   "source": [
    "url_step2_df = pd.DataFrame({\n",
    "    'url': url_step_2_list\n",
    "})\n",
    "url_step2_df.to_csv(\"../Resources/url_step_2.csv\", index=False)"
   ]
  },
  {
   "cell_type": "code",
   "execution_count": null,
   "id": "74a2c061",
   "metadata": {},
   "outputs": [],
   "source": []
  }
 ],
 "metadata": {
  "kernelspec": {
   "display_name": "Python 3 (ipykernel)",
   "language": "python",
   "name": "python3"
  },
  "language_info": {
   "codemirror_mode": {
    "name": "ipython",
    "version": 3
   },
   "file_extension": ".py",
   "mimetype": "text/x-python",
   "name": "python",
   "nbconvert_exporter": "python",
   "pygments_lexer": "ipython3",
   "version": "3.8.12"
  }
 },
 "nbformat": 4,
 "nbformat_minor": 5
}
