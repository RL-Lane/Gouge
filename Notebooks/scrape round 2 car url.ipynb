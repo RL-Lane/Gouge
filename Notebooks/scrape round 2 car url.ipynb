{
 "cells": [
  {
   "cell_type": "code",
   "execution_count": 1,
   "id": "04f83827",
   "metadata": {},
   "outputs": [],
   "source": [
    "import pandas as pd\n",
    "from splinter import Browser\n",
    "from bs4 import BeautifulSoup as bs\n",
    "from webdriver_manager.chrome import ChromeDriverManager\n",
    "import time \n",
    "import random"
   ]
  },
  {
   "cell_type": "code",
   "execution_count": 2,
   "id": "528fbd73",
   "metadata": {
    "scrolled": true
   },
   "outputs": [
    {
     "name": "stdout",
     "output_type": "stream",
     "text": [
      "\n"
     ]
    },
    {
     "name": "stderr",
     "output_type": "stream",
     "text": [
      "[WDM] - ====== WebDriver manager ======\n",
      "[WDM] - Current google-chrome version is 103.0.5060\n",
      "[WDM] - Get LATEST chromedriver version for 103.0.5060 google-chrome\n",
      "[WDM] - Driver [C:\\Users\\Rob\\.wdm\\drivers\\chromedriver\\win32\\103.0.5060.53\\chromedriver.exe] found in cache\n"
     ]
    }
   ],
   "source": [
    "# Setup splinter\n",
    "executable_path = {'executable_path': ChromeDriverManager().install()}\n",
    "browser = Browser('chrome', **executable_path, headless=False)"
   ]
  },
  {
   "cell_type": "code",
   "execution_count": 3,
   "id": "a3990e73",
   "metadata": {
    "scrolled": true
   },
   "outputs": [
    {
     "data": {
      "text/html": [
       "<div>\n",
       "<style scoped>\n",
       "    .dataframe tbody tr th:only-of-type {\n",
       "        vertical-align: middle;\n",
       "    }\n",
       "\n",
       "    .dataframe tbody tr th {\n",
       "        vertical-align: top;\n",
       "    }\n",
       "\n",
       "    .dataframe thead th {\n",
       "        text-align: right;\n",
       "    }\n",
       "</style>\n",
       "<table border=\"1\" class=\"dataframe\">\n",
       "  <thead>\n",
       "    <tr style=\"text-align: right;\">\n",
       "      <th></th>\n",
       "      <th>urls</th>\n",
       "    </tr>\n",
       "  </thead>\n",
       "  <tbody>\n",
       "    <tr>\n",
       "      <th>0</th>\n",
       "      <td>https://www.cargurus.com/Cars/new/searchresult...</td>\n",
       "    </tr>\n",
       "    <tr>\n",
       "      <th>1</th>\n",
       "      <td>https://www.cargurus.com/Cars/new/searchresult...</td>\n",
       "    </tr>\n",
       "    <tr>\n",
       "      <th>2</th>\n",
       "      <td>https://www.cargurus.com/Cars/new/searchresult...</td>\n",
       "    </tr>\n",
       "    <tr>\n",
       "      <th>3</th>\n",
       "      <td>https://www.cargurus.com/Cars/new/searchresult...</td>\n",
       "    </tr>\n",
       "    <tr>\n",
       "      <th>4</th>\n",
       "      <td>https://www.cargurus.com/Cars/new/searchresult...</td>\n",
       "    </tr>\n",
       "    <tr>\n",
       "      <th>...</th>\n",
       "      <td>...</td>\n",
       "    </tr>\n",
       "    <tr>\n",
       "      <th>154</th>\n",
       "      <td>https://www.cargurus.com/Cars/new/searchresult...</td>\n",
       "    </tr>\n",
       "    <tr>\n",
       "      <th>155</th>\n",
       "      <td>https://www.cargurus.com/Cars/new/searchresult...</td>\n",
       "    </tr>\n",
       "    <tr>\n",
       "      <th>156</th>\n",
       "      <td>https://www.cargurus.com/Cars/new/searchresult...</td>\n",
       "    </tr>\n",
       "    <tr>\n",
       "      <th>157</th>\n",
       "      <td>https://www.cargurus.com/Cars/new/searchresult...</td>\n",
       "    </tr>\n",
       "    <tr>\n",
       "      <th>158</th>\n",
       "      <td>https://www.cargurus.com/Cars/new/searchresult...</td>\n",
       "    </tr>\n",
       "  </tbody>\n",
       "</table>\n",
       "<p>159 rows × 1 columns</p>\n",
       "</div>"
      ],
      "text/plain": [
       "                                                  urls\n",
       "0    https://www.cargurus.com/Cars/new/searchresult...\n",
       "1    https://www.cargurus.com/Cars/new/searchresult...\n",
       "2    https://www.cargurus.com/Cars/new/searchresult...\n",
       "3    https://www.cargurus.com/Cars/new/searchresult...\n",
       "4    https://www.cargurus.com/Cars/new/searchresult...\n",
       "..                                                 ...\n",
       "154  https://www.cargurus.com/Cars/new/searchresult...\n",
       "155  https://www.cargurus.com/Cars/new/searchresult...\n",
       "156  https://www.cargurus.com/Cars/new/searchresult...\n",
       "157  https://www.cargurus.com/Cars/new/searchresult...\n",
       "158  https://www.cargurus.com/Cars/new/searchresult...\n",
       "\n",
       "[159 rows x 1 columns]"
      ]
     },
     "execution_count": 3,
     "metadata": {},
     "output_type": "execute_result"
    }
   ],
   "source": [
    "url_df = pd.read_csv(\"../Resources/url_step_2.csv\")\n",
    "\n",
    "url_df"
   ]
  },
  {
   "cell_type": "code",
   "execution_count": 4,
   "id": "09934ae2",
   "metadata": {},
   "outputs": [
    {
     "data": {
      "text/plain": [
       "'https://www.cargurus.com/Cars/new/searchresults.action?zip=76012&showNegotiable=true&sortDir=ASC&sourceContext=homePageNewCarTab_false_0&distance=50&sortType=PRICE&entitySelectingHelper.selectedEntity=d320'"
      ]
     },
     "execution_count": 4,
     "metadata": {},
     "output_type": "execute_result"
    }
   ],
   "source": [
    " url_list = []\n",
    "    \n",
    "# for index, row in url_df.iterrows():\n",
    "#     url_list.append(row[\"url_df\"])\n",
    "url_list = url_df[\"urls\"]  \n",
    "url_list\n",
    "\n",
    "url_list[0]\n",
    "\n"
   ]
  },
  {
   "cell_type": "markdown",
   "id": "2e05dcda",
   "metadata": {},
   "source": [
    "## Takes URLs generated in step 1 and creates new list of individual car listing URLs"
   ]
  },
  {
   "cell_type": "code",
   "execution_count": 6,
   "id": "1028c502",
   "metadata": {
    "scrolled": true
   },
   "outputs": [],
   "source": [
    "all_urls = []\n",
    "\n",
    "for url in url_list:\n",
    "\n",
    "    browser.visit(url)\n",
    "    time.sleep(random.randint(3, 6))\n",
    "    elems = browser.find_by_tag('a')\n",
    "\n",
    "    links_list =[]\n",
    "\n",
    "    for e in elems:\n",
    "        links_list.append(e['href'])\n",
    "    for l in links_list:\n",
    "        if \"#listing=\" in l:\n",
    "#             print(l)\n",
    "            if not(l in all_urls):\n",
    "                all_urls.append(l)"
   ]
  },
  {
   "cell_type": "markdown",
   "id": "515cd394",
   "metadata": {},
   "source": [
    "#### how many listings total"
   ]
  },
  {
   "cell_type": "code",
   "execution_count": 7,
   "id": "4bfa031a",
   "metadata": {},
   "outputs": [
    {
     "data": {
      "text/plain": [
       "2221"
      ]
     },
     "execution_count": 7,
     "metadata": {},
     "output_type": "execute_result"
    }
   ],
   "source": [
    "len(all_urls)"
   ]
  },
  {
   "cell_type": "code",
   "execution_count": 8,
   "id": "56e251b2",
   "metadata": {},
   "outputs": [],
   "source": [
    "all_urls_df = pd.DataFrame({\n",
    "    'urls': all_urls\n",
    "})\n",
    "all_urls_df.to_csv(\"../Resources/all_urls_list.csv\", index=False)"
   ]
  },
  {
   "cell_type": "code",
   "execution_count": null,
   "id": "876a2553",
   "metadata": {},
   "outputs": [],
   "source": []
  }
 ],
 "metadata": {
  "kernelspec": {
   "display_name": "Python 3 (ipykernel)",
   "language": "python",
   "name": "python3"
  },
  "language_info": {
   "codemirror_mode": {
    "name": "ipython",
    "version": 3
   },
   "file_extension": ".py",
   "mimetype": "text/x-python",
   "name": "python",
   "nbconvert_exporter": "python",
   "pygments_lexer": "ipython3",
   "version": "3.9.7"
  }
 },
 "nbformat": 4,
 "nbformat_minor": 5
}
