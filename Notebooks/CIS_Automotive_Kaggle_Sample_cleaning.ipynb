{
 "cells": [
  {
   "cell_type": "code",
   "execution_count": 264,
   "id": "3978c1fa",
   "metadata": {},
   "outputs": [],
   "source": [
    "import pandas as pd\n",
    "import numpy as np\n",
    "import datetime as dt"
   ]
  },
  {
   "cell_type": "code",
   "execution_count": 265,
   "id": "740d1301",
   "metadata": {},
   "outputs": [],
   "source": [
    "file = \"CIS_Automotive_Kaggle_Sample.csv\"\n",
    "df = pd.read_csv(file)\n",
    "df = df[['msrp', 'askPrice', 'mileage', 'isNew', 'vf_AdaptiveCruiseControl', 'vf_AutoReverseSystem', 'vf_AutomaticPedestrianAlertingSound', 'vf_Axles', 'vf_BasePrice', \n",
    "         'vf_BedLengthIN', 'vf_BedType', 'vf_BlindSpotMon', 'vf_BodyCabType', 'vf_BodyClass', 'vf_Doors', 'vf_DriveType', 'vf_EngineHP', 'vf_ForwardCollisionWarning', \n",
    "         'vf_KeylessIgnition', 'vf_Make', 'vf_Model', 'vf_ModelYear', 'vf_PedestrianAutomaticEmergencyBraking', 'vf_TopSpeedMPH', 'vf_TransmissionSpeeds', 'vf_TransmissionStyle', 'vf_VehicleType']]\n",
    "# Removed columns due to 0 data return: vf_AxleConfiguration, vf_DriverAssist\n",
    "# Removed columns due to redundancy: brandName, modelName"
   ]
  },
  {
   "cell_type": "code",
   "execution_count": 266,
   "id": "1222ce0c",
   "metadata": {
    "scrolled": true
   },
   "outputs": [],
   "source": [
    "# df2 = df\n",
    "# df2['vf_Manufacturer'] = df2['vf_Manufacturer'].str.split(' ').str[1]\n",
    "# df2.head(5)"
   ]
  },
  {
   "cell_type": "code",
   "execution_count": 267,
   "id": "0bdf4523",
   "metadata": {
    "scrolled": true
   },
   "outputs": [],
   "source": [
    "# df[\"msrp\"] = df[\"msrp\"].int.replace(',', '.').astype(float)"
   ]
  },
  {
   "cell_type": "code",
   "execution_count": 268,
   "id": "c7f7b3c6",
   "metadata": {
    "scrolled": true
   },
   "outputs": [],
   "source": [
    "# change all columns to report \"Not Applicable\" to be blanks\n",
    "\n",
    "df = df.replace(\"Not Applicable\", np.NaN)"
   ]
  },
  {
   "cell_type": "code",
   "execution_count": 269,
   "id": "3062a92c",
   "metadata": {},
   "outputs": [
    {
     "ename": "ValueError",
     "evalue": "Length mismatch: Expected axis has 27 elements, new values have 2 elements",
     "output_type": "error",
     "traceback": [
      "\u001b[1;31m---------------------------------------------------------------------------\u001b[0m",
      "\u001b[1;31mValueError\u001b[0m                                Traceback (most recent call last)",
      "\u001b[1;32m~\\AppData\\Local\\Temp/ipykernel_13064/4255931756.py\u001b[0m in \u001b[0;36m<module>\u001b[1;34m\u001b[0m\n\u001b[1;32m----> 1\u001b[1;33m \u001b[0mdf\u001b[0m\u001b[1;33m.\u001b[0m\u001b[0mcolumns\u001b[0m \u001b[1;33m=\u001b[0m \u001b[1;33m[\u001b[0m\u001b[1;34m'Average_Price'\u001b[0m\u001b[1;33m,\u001b[0m \u001b[1;34m'Average_Square_Feet'\u001b[0m\u001b[1;33m]\u001b[0m\u001b[1;33m\u001b[0m\u001b[1;33m\u001b[0m\u001b[0m\n\u001b[0m",
      "\u001b[1;32m~\\anaconda3\\lib\\site-packages\\pandas\\core\\generic.py\u001b[0m in \u001b[0;36m__setattr__\u001b[1;34m(self, name, value)\u001b[0m\n\u001b[0;32m   5498\u001b[0m         \u001b[1;32mtry\u001b[0m\u001b[1;33m:\u001b[0m\u001b[1;33m\u001b[0m\u001b[1;33m\u001b[0m\u001b[0m\n\u001b[0;32m   5499\u001b[0m             \u001b[0mobject\u001b[0m\u001b[1;33m.\u001b[0m\u001b[0m__getattribute__\u001b[0m\u001b[1;33m(\u001b[0m\u001b[0mself\u001b[0m\u001b[1;33m,\u001b[0m \u001b[0mname\u001b[0m\u001b[1;33m)\u001b[0m\u001b[1;33m\u001b[0m\u001b[1;33m\u001b[0m\u001b[0m\n\u001b[1;32m-> 5500\u001b[1;33m             \u001b[1;32mreturn\u001b[0m \u001b[0mobject\u001b[0m\u001b[1;33m.\u001b[0m\u001b[0m__setattr__\u001b[0m\u001b[1;33m(\u001b[0m\u001b[0mself\u001b[0m\u001b[1;33m,\u001b[0m \u001b[0mname\u001b[0m\u001b[1;33m,\u001b[0m \u001b[0mvalue\u001b[0m\u001b[1;33m)\u001b[0m\u001b[1;33m\u001b[0m\u001b[1;33m\u001b[0m\u001b[0m\n\u001b[0m\u001b[0;32m   5501\u001b[0m         \u001b[1;32mexcept\u001b[0m \u001b[0mAttributeError\u001b[0m\u001b[1;33m:\u001b[0m\u001b[1;33m\u001b[0m\u001b[1;33m\u001b[0m\u001b[0m\n\u001b[0;32m   5502\u001b[0m             \u001b[1;32mpass\u001b[0m\u001b[1;33m\u001b[0m\u001b[1;33m\u001b[0m\u001b[0m\n",
      "\u001b[1;32m~\\anaconda3\\lib\\site-packages\\pandas\\_libs\\properties.pyx\u001b[0m in \u001b[0;36mpandas._libs.properties.AxisProperty.__set__\u001b[1;34m()\u001b[0m\n",
      "\u001b[1;32m~\\anaconda3\\lib\\site-packages\\pandas\\core\\generic.py\u001b[0m in \u001b[0;36m_set_axis\u001b[1;34m(self, axis, labels)\u001b[0m\n\u001b[0;32m    764\u001b[0m     \u001b[1;32mdef\u001b[0m \u001b[0m_set_axis\u001b[0m\u001b[1;33m(\u001b[0m\u001b[0mself\u001b[0m\u001b[1;33m,\u001b[0m \u001b[0maxis\u001b[0m\u001b[1;33m:\u001b[0m \u001b[0mint\u001b[0m\u001b[1;33m,\u001b[0m \u001b[0mlabels\u001b[0m\u001b[1;33m:\u001b[0m \u001b[0mIndex\u001b[0m\u001b[1;33m)\u001b[0m \u001b[1;33m->\u001b[0m \u001b[1;32mNone\u001b[0m\u001b[1;33m:\u001b[0m\u001b[1;33m\u001b[0m\u001b[1;33m\u001b[0m\u001b[0m\n\u001b[0;32m    765\u001b[0m         \u001b[0mlabels\u001b[0m \u001b[1;33m=\u001b[0m \u001b[0mensure_index\u001b[0m\u001b[1;33m(\u001b[0m\u001b[0mlabels\u001b[0m\u001b[1;33m)\u001b[0m\u001b[1;33m\u001b[0m\u001b[1;33m\u001b[0m\u001b[0m\n\u001b[1;32m--> 766\u001b[1;33m         \u001b[0mself\u001b[0m\u001b[1;33m.\u001b[0m\u001b[0m_mgr\u001b[0m\u001b[1;33m.\u001b[0m\u001b[0mset_axis\u001b[0m\u001b[1;33m(\u001b[0m\u001b[0maxis\u001b[0m\u001b[1;33m,\u001b[0m \u001b[0mlabels\u001b[0m\u001b[1;33m)\u001b[0m\u001b[1;33m\u001b[0m\u001b[1;33m\u001b[0m\u001b[0m\n\u001b[0m\u001b[0;32m    767\u001b[0m         \u001b[0mself\u001b[0m\u001b[1;33m.\u001b[0m\u001b[0m_clear_item_cache\u001b[0m\u001b[1;33m(\u001b[0m\u001b[1;33m)\u001b[0m\u001b[1;33m\u001b[0m\u001b[1;33m\u001b[0m\u001b[0m\n\u001b[0;32m    768\u001b[0m \u001b[1;33m\u001b[0m\u001b[0m\n",
      "\u001b[1;32m~\\anaconda3\\lib\\site-packages\\pandas\\core\\internals\\managers.py\u001b[0m in \u001b[0;36mset_axis\u001b[1;34m(self, axis, new_labels)\u001b[0m\n\u001b[0;32m    214\u001b[0m     \u001b[1;32mdef\u001b[0m \u001b[0mset_axis\u001b[0m\u001b[1;33m(\u001b[0m\u001b[0mself\u001b[0m\u001b[1;33m,\u001b[0m \u001b[0maxis\u001b[0m\u001b[1;33m:\u001b[0m \u001b[0mint\u001b[0m\u001b[1;33m,\u001b[0m \u001b[0mnew_labels\u001b[0m\u001b[1;33m:\u001b[0m \u001b[0mIndex\u001b[0m\u001b[1;33m)\u001b[0m \u001b[1;33m->\u001b[0m \u001b[1;32mNone\u001b[0m\u001b[1;33m:\u001b[0m\u001b[1;33m\u001b[0m\u001b[1;33m\u001b[0m\u001b[0m\n\u001b[0;32m    215\u001b[0m         \u001b[1;31m# Caller is responsible for ensuring we have an Index object.\u001b[0m\u001b[1;33m\u001b[0m\u001b[1;33m\u001b[0m\u001b[0m\n\u001b[1;32m--> 216\u001b[1;33m         \u001b[0mself\u001b[0m\u001b[1;33m.\u001b[0m\u001b[0m_validate_set_axis\u001b[0m\u001b[1;33m(\u001b[0m\u001b[0maxis\u001b[0m\u001b[1;33m,\u001b[0m \u001b[0mnew_labels\u001b[0m\u001b[1;33m)\u001b[0m\u001b[1;33m\u001b[0m\u001b[1;33m\u001b[0m\u001b[0m\n\u001b[0m\u001b[0;32m    217\u001b[0m         \u001b[0mself\u001b[0m\u001b[1;33m.\u001b[0m\u001b[0maxes\u001b[0m\u001b[1;33m[\u001b[0m\u001b[0maxis\u001b[0m\u001b[1;33m]\u001b[0m \u001b[1;33m=\u001b[0m \u001b[0mnew_labels\u001b[0m\u001b[1;33m\u001b[0m\u001b[1;33m\u001b[0m\u001b[0m\n\u001b[0;32m    218\u001b[0m \u001b[1;33m\u001b[0m\u001b[0m\n",
      "\u001b[1;32m~\\anaconda3\\lib\\site-packages\\pandas\\core\\internals\\base.py\u001b[0m in \u001b[0;36m_validate_set_axis\u001b[1;34m(self, axis, new_labels)\u001b[0m\n\u001b[0;32m     55\u001b[0m \u001b[1;33m\u001b[0m\u001b[0m\n\u001b[0;32m     56\u001b[0m         \u001b[1;32melif\u001b[0m \u001b[0mnew_len\u001b[0m \u001b[1;33m!=\u001b[0m \u001b[0mold_len\u001b[0m\u001b[1;33m:\u001b[0m\u001b[1;33m\u001b[0m\u001b[1;33m\u001b[0m\u001b[0m\n\u001b[1;32m---> 57\u001b[1;33m             raise ValueError(\n\u001b[0m\u001b[0;32m     58\u001b[0m                 \u001b[1;34mf\"Length mismatch: Expected axis has {old_len} elements, new \"\u001b[0m\u001b[1;33m\u001b[0m\u001b[1;33m\u001b[0m\u001b[0m\n\u001b[0;32m     59\u001b[0m                 \u001b[1;34mf\"values have {new_len} elements\"\u001b[0m\u001b[1;33m\u001b[0m\u001b[1;33m\u001b[0m\u001b[0m\n",
      "\u001b[1;31mValueError\u001b[0m: Length mismatch: Expected axis has 27 elements, new values have 2 elements"
     ]
    }
   ],
   "source": [
    "df.columns = ['Average_Price', 'Average_Square_Feet']"
   ]
  },
  {
   "cell_type": "code",
   "execution_count": null,
   "id": "a032b03b",
   "metadata": {},
   "outputs": [],
   "source": [
    "# column vf_BodyClass \n",
    "# \trename \"Sedan/Saloon\" to just \"Sedan\", \n",
    "# \trename \"Convertible/Cabriolet\" to \"Convertible\", \n",
    "# \trename \"Hatchback/Liftback/Notchback\" to \"Hatchback\",\n",
    "# \trename \"Sport Utility Vehicle (SUV)/Multi-Purpose Vehicle (MPV)\" to \"SUV\"\n",
    "\n",
    "df = df.replace(to_replace='Sedan/Saloon', value='Sedan')\n",
    "df = df.replace(to_replace='Convertible/Cabriolet', value='Convertible')\n",
    "df = df.replace(to_replace='Hatchback/Liftback/Notchback', value='Hatchback')\n",
    "df = df.replace(to_replace='Sport Utility Vehicle (SUV)/Multi-Purpose Vehicle (MPV)', value='SUV')\n"
   ]
  },
  {
   "cell_type": "code",
   "execution_count": null,
   "id": "2b28a559",
   "metadata": {},
   "outputs": [],
   "source": [
    "# filter isNew = True\n",
    "\n",
    "df = df[df['isNew']==True]"
   ]
  },
  {
   "cell_type": "code",
   "execution_count": null,
   "id": "734370ca",
   "metadata": {},
   "outputs": [],
   "source": [
    "# # filter vf_ModelYear = > 2018\n",
    "\n",
    "df['vf_ModelYear'] = df['vf_ModelYear'].astype(str)\n",
    "\n",
    "df = df[df['vf_ModelYear']>='2018']"
   ]
  },
  {
   "cell_type": "code",
   "execution_count": null,
   "id": "d3e3b70a",
   "metadata": {},
   "outputs": [],
   "source": [
    "# filter mileage = < 100\n",
    "\n",
    "df = df[df['mileage']<=100]"
   ]
  },
  {
   "cell_type": "code",
   "execution_count": null,
   "id": "79e51813",
   "metadata": {},
   "outputs": [],
   "source": [
    "# renaming columns\n",
    "\n",
    "df = df[['msrp', 'askPrice', 'mileage', 'vf_AdaptiveCruiseControl', 'vf_AutoReverseSystem', 'vf_AutomaticPedestrianAlertingSound', 'vf_Axles', 'vf_BasePrice', \n",
    "         'vf_BedLengthIN', 'vf_BedType', 'vf_BlindSpotMon', 'vf_BodyCabType', 'vf_BodyClass', 'vf_Doors', 'vf_DriveType', 'vf_EngineHP', 'vf_ForwardCollisionWarning', \n",
    "         'vf_KeylessIgnition', 'vf_Make', 'vf_Model', 'vf_ModelYear', 'vf_PedestrianAutomaticEmergencyBraking', 'vf_TopSpeedMPH', 'vf_TransmissionSpeeds', 'vf_TransmissionStyle', 'vf_VehicleType'\n",
    "]]\n",
    "df.columns = ['MSRP', 'Selling_Price', 'Mileage', 'Cruise_Control', 'AutoReverseSystem', 'PedestrianAlertingSound', \n",
    "             'Axles', 'BasePrice', 'BedLengthIN', 'BedType', 'BlindSpotMon', 'BodyCabType', 'BodyClass', 'Doors',\n",
    "             'DriveType', 'EngineHP', 'ForwardCollisionWarning', 'KeylessIgnition', 'Make', 'Model', 'ModelYear',\n",
    "             'PedAutoEBrake', 'TopSpeedMPH', 'TransmissionSpeeds', 'TransmissionStyle', 'VehicleType']"
   ]
  },
  {
   "cell_type": "code",
   "execution_count": null,
   "id": "8ded1f61",
   "metadata": {},
   "outputs": [],
   "source": [
    "# Export the DataFrames to CSV\n",
    "\n",
    "df.to_csv(\"reduced_auto_df.csv\", index=False)"
   ]
  },
  {
   "cell_type": "code",
   "execution_count": null,
   "id": "28f32185",
   "metadata": {},
   "outputs": [],
   "source": []
  }
 ],
 "metadata": {
  "kernelspec": {
   "display_name": "Python 3 (ipykernel)",
   "language": "python",
   "name": "python3"
  },
  "language_info": {
   "codemirror_mode": {
    "name": "ipython",
    "version": 3
   },
   "file_extension": ".py",
   "mimetype": "text/x-python",
   "name": "python",
   "nbconvert_exporter": "python",
   "pygments_lexer": "ipython3",
   "version": "3.9.7"
  }
 },
 "nbformat": 4,
 "nbformat_minor": 5
}
