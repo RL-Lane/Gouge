{
 "cells": [
  {
   "cell_type": "code",
   "execution_count": 12,
   "id": "3978c1fa",
   "metadata": {},
   "outputs": [],
   "source": [
    "import pandas as pd\n",
    "import numpy as np\n",
    "import datetime as dt"
   ]
  },
  {
   "cell_type": "code",
   "execution_count": 13,
   "id": "740d1301",
   "metadata": {},
   "outputs": [],
   "source": [
    "# Removed columns due to redundancy: brandName, modelName\n",
    "\n",
    "file = \"CIS_Automotive_Kaggle_Sample.csv\"\n",
    "df = pd.read_csv(file)\n",
    "df = df[['msrp', 'askPrice', 'mileage', 'isNew', 'vf_AdaptiveCruiseControl', 'vf_AutoReverseSystem', 'vf_AutomaticPedestrianAlertingSound', 'vf_Axles', 'vf_BasePrice', \n",
    "         'vf_BedLengthIN', 'vf_BedType', 'vf_BlindSpotMon', 'vf_BodyCabType', 'vf_BodyClass', 'vf_Doors', 'vf_DriveType', 'vf_EngineHP', 'vf_ForwardCollisionWarning', \n",
    "         'vf_KeylessIgnition', 'vf_Make', 'vf_Model', 'vf_ModelYear', 'vf_PedestrianAutomaticEmergencyBraking', 'vf_TopSpeedMPH', 'vf_TransmissionSpeeds', 'vf_TransmissionStyle', 'vf_VehicleType']]"
   ]
  },
  {
   "cell_type": "code",
   "execution_count": 14,
   "id": "c7f7b3c6",
   "metadata": {
    "scrolled": true
   },
   "outputs": [],
   "source": [
    "# change all columns to report \"Not Applicable\" to be blanks\n",
    "\n",
    "df = df.replace(\"Not Applicable\", np.NaN)"
   ]
  },
  {
   "cell_type": "code",
   "execution_count": 15,
   "id": "a032b03b",
   "metadata": {},
   "outputs": [],
   "source": [
    "# column vf_BodyClass \n",
    "# \trename \"Sedan/Saloon\" to just \"Sedan\", \n",
    "# \trename \"Convertible/Cabriolet\" to \"Convertible\", \n",
    "# \trename \"Hatchback/Liftback/Notchback\" to \"Hatchback\",\n",
    "# \trename \"Sport Utility Vehicle (SUV)/Multi-Purpose Vehicle (MPV)\" to \"SUV\"\n",
    "\n",
    "df = df.replace(to_replace='Sedan/Saloon', value='Sedan')\n",
    "df = df.replace(to_replace='Convertible/Cabriolet', value='Convertible')\n",
    "df = df.replace(to_replace='Hatchback/Liftback/Notchback', value='Hatchback')\n",
    "df = df.replace(to_replace='Sport Utility Vehicle (SUV)/Multi-Purpose Vehicle (MPV)', value='SUV')\n"
   ]
  },
  {
   "cell_type": "code",
   "execution_count": 16,
   "id": "2b28a559",
   "metadata": {},
   "outputs": [],
   "source": [
    "# filter isNew = True\n",
    "\n",
    "df = df[df['isNew']==True]"
   ]
  },
  {
   "cell_type": "code",
   "execution_count": 17,
   "id": "d3e3b70a",
   "metadata": {},
   "outputs": [],
   "source": [
    "# filter mileage = < 100\n",
    "\n",
    "df = df[df['mileage']<=100]"
   ]
  },
  {
   "cell_type": "code",
   "execution_count": 18,
   "id": "734370ca",
   "metadata": {},
   "outputs": [],
   "source": [
    "# filter vf_ModelYear = > 2018\n",
    "\n",
    "df['vf_ModelYear'] = df['vf_ModelYear'].astype(str)\n",
    "\n",
    "df = df[df['vf_ModelYear']>='2018']"
   ]
  },
  {
   "cell_type": "code",
   "execution_count": 19,
   "id": "79e51813",
   "metadata": {},
   "outputs": [],
   "source": [
    "# renaming columns\n",
    "\n",
    "df = df[['msrp', 'askPrice', 'mileage', 'vf_AdaptiveCruiseControl', 'vf_AutoReverseSystem', 'vf_AutomaticPedestrianAlertingSound', 'vf_Axles', 'vf_BasePrice', \n",
    "         'vf_BedLengthIN', 'vf_BedType', 'vf_BlindSpotMon', 'vf_BodyCabType', 'vf_BodyClass', 'vf_Doors', 'vf_DriveType', 'vf_EngineHP', 'vf_ForwardCollisionWarning', \n",
    "         'vf_KeylessIgnition', 'vf_Make', 'vf_Model', 'vf_ModelYear', 'vf_PedestrianAutomaticEmergencyBraking', 'vf_TopSpeedMPH', 'vf_TransmissionSpeeds', 'vf_TransmissionStyle', 'vf_VehicleType'\n",
    "]]\n",
    "df.columns = ['MSRP', 'Selling_Price', 'Mileage', 'Cruise_Control', 'AutoReverseSystem', 'PedestrianAlertingSound', \n",
    "             'Axles', 'BasePrice', 'BedLengthIN', 'BedType', 'BlindSpotMon', 'BodyCabType', 'BodyClass', 'Doors',\n",
    "             'DriveType', 'EngineHP', 'ForwardCollisionWarning', 'KeylessIgnition', 'Make', 'Model', 'ModelYear',\n",
    "             'PedAutoEBrake', 'TopSpeedMPH', 'TransmissionSpeeds', 'TransmissionStyle', 'VehicleType']"
   ]
  },
  {
   "cell_type": "code",
   "execution_count": 20,
   "id": "8ded1f61",
   "metadata": {},
   "outputs": [],
   "source": [
    "# Export the DataFrames to CSV\n",
    "\n",
    "df.to_csv(\"reduced_auto_df.csv\", index=False)"
   ]
  }
 ],
 "metadata": {
  "kernelspec": {
   "display_name": "Python 3 (ipykernel)",
   "language": "python",
   "name": "python3"
  },
  "language_info": {
   "codemirror_mode": {
    "name": "ipython",
    "version": 3
   },
   "file_extension": ".py",
   "mimetype": "text/x-python",
   "name": "python",
   "nbconvert_exporter": "python",
   "pygments_lexer": "ipython3",
   "version": "3.9.7"
  }
 },
 "nbformat": 4,
 "nbformat_minor": 5
}
