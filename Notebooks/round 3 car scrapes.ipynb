{
 "cells": [
  {
   "cell_type": "code",
   "execution_count": 6,
   "id": "c16dc4dc",
   "metadata": {},
   "outputs": [],
   "source": [
    "import pandas as pd\n",
    "from splinter import Browser\n",
    "from bs4 import BeautifulSoup as bs\n",
    "from webdriver_manager.chrome import ChromeDriverManager\n",
    "import time \n",
    "import random"
   ]
  },
  {
   "cell_type": "code",
   "execution_count": 2,
   "id": "588088cb",
   "metadata": {},
   "outputs": [
    {
     "name": "stdout",
     "output_type": "stream",
     "text": [
      "\n"
     ]
    },
    {
     "name": "stderr",
     "output_type": "stream",
     "text": [
      "[WDM] - ====== WebDriver manager ======\n",
      "[WDM] - Current google-chrome version is 103.0.5060\n",
      "[WDM] - Get LATEST chromedriver version for 103.0.5060 google-chrome\n",
      "[WDM] - About to download new driver from https://chromedriver.storage.googleapis.com/103.0.5060.53/chromedriver_win32.zip\n",
      "[WDM] - Driver has been saved in cache [C:\\Users\\Rob\\.wdm\\drivers\\chromedriver\\win32\\103.0.5060.53]\n"
     ]
    }
   ],
   "source": [
    "# Setup splinter\n",
    "executable_path = {'executable_path': ChromeDriverManager().install()}\n",
    "browser = Browser('chrome', **executable_path, headless=False)"
   ]
  },
  {
   "cell_type": "code",
   "execution_count": 140,
   "id": "aa2aaaa5",
   "metadata": {},
   "outputs": [
    {
     "data": {
      "text/plain": [
       "0       https://www.cargurus.com/Cars/new/searchresult...\n",
       "1       https://www.cargurus.com/Cars/new/searchresult...\n",
       "2       https://www.cargurus.com/Cars/new/searchresult...\n",
       "3       https://www.cargurus.com/Cars/new/searchresult...\n",
       "4       https://www.cargurus.com/Cars/new/searchresult...\n",
       "                              ...                        \n",
       "2216    https://www.cargurus.com/Cars/new/searchresult...\n",
       "2217    https://www.cargurus.com/Cars/new/searchresult...\n",
       "2218    https://www.cargurus.com/Cars/new/searchresult...\n",
       "2219    https://www.cargurus.com/Cars/new/searchresult...\n",
       "2220    https://www.cargurus.com/Cars/new/searchresult...\n",
       "Name: urls, Length: 2221, dtype: object"
      ]
     },
     "execution_count": 140,
     "metadata": {},
     "output_type": "execute_result"
    }
   ],
   "source": [
    "# url_list = ['https://www.cargurus.com/Cars/new/searchresults.action?zip=76012&showNegotiable=true&sortDir=ASC&sourceContext=homePageNewCarTab_false_0&distance=50&sortType=PRICE&entitySelectingHelper.selectedEntity=d320#listing=333784109/NEWCAR_FEATURED',\n",
    "#            'https://www.cargurus.com/Cars/new/searchresults.action?zip=76012&showNegotiable=true&sortDir=ASC&sourceContext=homePageNewCarTab_false_0&distance=50&sortType=PRICE&entitySelectingHelper.selectedEntity=d320#listing=333784118/NEWCAR_FEATURED',\n",
    "#            'https://www.cargurus.com/Cars/new/searchresults.action?zip=78704&showNegotiable=true&sortDir=ASC&sourceContext=homePageNewCarTab_false_0&distance=50&sortType=PRICE&entitySelectingHelper.selectedEntity=d2412#listing=333651233/NONE',\n",
    "#            'https://www.cargurus.com/Cars/new/searchresults.action?zip=76012&showNegotiable=true&sortDir=ASC&sourceContext=homePageNewCarTab_false_0&distance=50&sortType=PRICE&entitySelectingHelper.selectedEntity=d320#listing=333784109/NEWCAR_FEATURED']\n",
    "\n",
    "url_df = pd.read_csv('../Resources/all_urls_list.csv')\n",
    "url_list = url_df['urls']\n",
    "url_list"
   ]
  },
  {
   "cell_type": "code",
   "execution_count": 141,
   "id": "69f00810",
   "metadata": {},
   "outputs": [],
   "source": [
    "cars_df = pd.DataFrame({})\n"
   ]
  },
  {
   "cell_type": "code",
   "execution_count": null,
   "id": "5b253199",
   "metadata": {},
   "outputs": [],
   "source": []
  },
  {
   "cell_type": "code",
   "execution_count": 133,
   "id": "5196f753",
   "metadata": {},
   "outputs": [],
   "source": [
    "failed_tries = []"
   ]
  },
  {
   "cell_type": "code",
   "execution_count": 136,
   "id": "2c4d8564",
   "metadata": {},
   "outputs": [
    {
     "name": "stdout",
     "output_type": "stream",
     "text": [
      "Adding 0 of 4\n",
      "Adding 1 of 4\n",
      "Adding 2 of 4\n"
     ]
    },
    {
     "ename": "IndexError",
     "evalue": "list index out of range",
     "output_type": "error",
     "traceback": [
      "\u001b[1;31m---------------------------------------------------------------------------\u001b[0m",
      "\u001b[1;31mIndexError\u001b[0m                                Traceback (most recent call last)",
      "\u001b[1;32m~\\AppData\\Local\\Temp/ipykernel_21244/3430480697.py\u001b[0m in \u001b[0;36m<module>\u001b[1;34m\u001b[0m\n\u001b[0;32m      3\u001b[0m \u001b[1;31m# start with just 1 loop\u001b[0m\u001b[1;33m\u001b[0m\u001b[1;33m\u001b[0m\u001b[1;33m\u001b[0m\u001b[0m\n\u001b[0;32m      4\u001b[0m \u001b[1;32mfor\u001b[0m \u001b[0mi\u001b[0m \u001b[1;32min\u001b[0m \u001b[0mrange\u001b[0m\u001b[1;33m(\u001b[0m\u001b[0mstart\u001b[0m\u001b[1;33m,\u001b[0m\u001b[0mend\u001b[0m\u001b[1;33m)\u001b[0m\u001b[1;33m:\u001b[0m\u001b[1;33m\u001b[0m\u001b[1;33m\u001b[0m\u001b[0m\n\u001b[1;32m----> 5\u001b[1;33m     \u001b[0mbrowser\u001b[0m\u001b[1;33m.\u001b[0m\u001b[0mvisit\u001b[0m\u001b[1;33m(\u001b[0m\u001b[0murl_list\u001b[0m\u001b[1;33m[\u001b[0m\u001b[0mi\u001b[0m\u001b[1;33m]\u001b[0m\u001b[1;33m)\u001b[0m\u001b[1;33m\u001b[0m\u001b[1;33m\u001b[0m\u001b[0m\n\u001b[0m\u001b[0;32m      6\u001b[0m     \u001b[0mtime\u001b[0m\u001b[1;33m.\u001b[0m\u001b[0msleep\u001b[0m\u001b[1;33m(\u001b[0m\u001b[0mrandom\u001b[0m\u001b[1;33m.\u001b[0m\u001b[0mrandint\u001b[0m\u001b[1;33m(\u001b[0m\u001b[1;36m3\u001b[0m\u001b[1;33m,\u001b[0m\u001b[1;36m6\u001b[0m\u001b[1;33m)\u001b[0m\u001b[1;33m)\u001b[0m\u001b[1;33m\u001b[0m\u001b[1;33m\u001b[0m\u001b[0m\n\u001b[0;32m      7\u001b[0m \u001b[1;33m\u001b[0m\u001b[0m\n",
      "\u001b[1;31mIndexError\u001b[0m: list index out of range"
     ]
    }
   ],
   "source": [
    "start = 0\n",
    "end = 200\n",
    "# start with just 1 loop\n",
    "for i in range(start,end):\n",
    "    browser.visit(url_list[i])\n",
    "    time.sleep(random.randint(3,6))\n",
    "    \n",
    "    # place into try / except block:\n",
    "    try:\n",
    "        # scrape using find by tag (section).  Should return list.\n",
    "        keys = browser.find_by_tag('dl').find_by_tag('dt')\n",
    "        values = browser.find_by_tag('dl').find_by_tag('dd')\n",
    "\n",
    "        # loop through section list and find the one that has \"Dealer's Price\"\n",
    "#         section_list = []\n",
    "#         for e in elems:\n",
    "#             section_list.append(e.html)\n",
    "        # extract section list item into section variable\n",
    "\n",
    "        # run replaces on tags in section to turn it into table\n",
    "        \n",
    "\n",
    "        # put table into single dataframe temp_df (NOT scrape_cars_df)\n",
    "        temp_df = pd.DataFrame({})\n",
    "        for j in range(len(keys)):\n",
    "\n",
    "            temp_df[keys[j].text]= [values[j].text]\n",
    "        temp_df\n",
    "        \n",
    "        # create search string to find remaining car data\n",
    "        # search_str = \" - \" + temp_df[\"Dealer's Price:\"][0]\n",
    "        # find <h1> tag which contains search_str\n",
    "        search_str = \"IpF2YF\"\n",
    "        title = browser.find_by_tag('h1')\n",
    "        price = title[0].html.split(' ')[-1]\n",
    "        model = title[0].html.split(' ')[2]\n",
    "        \n",
    "        temp_df['Price:'] = [price]\n",
    "        temp_df['Model:'] = [model]\n",
    "        \n",
    "        # split element string by space\n",
    "        # year = e[0]\n",
    "        # make = e[1]\n",
    "        # model = e[2]\n",
    "        dealernames = browser.find_by_tag('a')\n",
    "        for d in dealernames:\n",
    "            if d['data-cg-ft'] == 'vdp-dealer-cg-homepage-link':\n",
    "                dealername = d.text\n",
    "        temp_df['Dealer Name:'] = [dealername]\n",
    "        # add columns and data to dataframe (temp_df['year'] = [year])\n",
    "        dealeraddress = browser.find_by_tag('span')\n",
    "        for d in dealeraddress:\n",
    "            if d['data-track-ui'] == 'dealer-address':\n",
    "                dealeradd = d.text\n",
    "        dealeradd = dealeradd.replace('\\n', '<br>')        \n",
    "        temp_df[\"Dealer Address:\"] = [dealeradd]\n",
    "        # append new dataframe to scrape_cars_df if successful\n",
    "        cars_df = pd.concat([cars_df, temp_df], axis=0, ignore_index=True)\n",
    "        \n",
    "        print(f\"Adding {i} of {end}\")\n",
    "    \n",
    "    # except: add i into failed list\n",
    "    except:\n",
    "        failed_tries.append(i)\n",
    "cars_df.to_csv(f'../Resources/{start}-{end}.csv')"
   ]
  },
  {
   "cell_type": "code",
   "execution_count": 117,
   "id": "1380639b",
   "metadata": {},
   "outputs": [
    {
     "data": {
      "text/plain": [
       "'2550 W University Dr\\nProsper, TX 75078'"
      ]
     },
     "execution_count": 117,
     "metadata": {},
     "output_type": "execute_result"
    }
   ],
   "source": [
    "dealeraddress = browser.find_by_tag('span')\n",
    "for d in dealeraddress:\n",
    "    if d['data-track-ui'] == 'dealer-address':\n",
    "        dealeradd = d.text\n",
    "dealeradd        "
   ]
  },
  {
   "cell_type": "code",
   "execution_count": 121,
   "id": "eb323b1e",
   "metadata": {
    "scrolled": false
   },
   "outputs": [
    {
     "data": {
      "text/html": [
       "<div>\n",
       "<style scoped>\n",
       "    .dataframe tbody tr th:only-of-type {\n",
       "        vertical-align: middle;\n",
       "    }\n",
       "\n",
       "    .dataframe tbody tr th {\n",
       "        vertical-align: top;\n",
       "    }\n",
       "\n",
       "    .dataframe thead th {\n",
       "        text-align: right;\n",
       "    }\n",
       "</style>\n",
       "<table border=\"1\" class=\"dataframe\">\n",
       "  <thead>\n",
       "    <tr style=\"text-align: right;\">\n",
       "      <th></th>\n",
       "      <th>Make:</th>\n",
       "      <th>Model:</th>\n",
       "      <th>Year:</th>\n",
       "      <th>Trim:</th>\n",
       "      <th>Body type:</th>\n",
       "      <th>Exterior color:</th>\n",
       "      <th>Interior color:</th>\n",
       "      <th>VIN:</th>\n",
       "      <th>Stock number:</th>\n",
       "      <th>Price:</th>\n",
       "      <th>Dealer Name:</th>\n",
       "      <th>Dealer Address:</th>\n",
       "    </tr>\n",
       "  </thead>\n",
       "  <tbody>\n",
       "    <tr>\n",
       "      <th>0</th>\n",
       "      <td>Jeep</td>\n",
       "      <td>Wrangler</td>\n",
       "      <td>2022</td>\n",
       "      <td>Sport 4WD</td>\n",
       "      <td>SUV / crossover</td>\n",
       "      <td>Bright White Clearcoat</td>\n",
       "      <td>Black</td>\n",
       "      <td>1C4GJXAN9NW272694</td>\n",
       "      <td>NW272694</td>\n",
       "      <td>$33,485</td>\n",
       "      <td>Shottenkirk Prosper Chrysler Dodge Jeep Ram</td>\n",
       "      <td>2550 W University Dr&lt;br&gt;Prosper, TX 75078</td>\n",
       "    </tr>\n",
       "  </tbody>\n",
       "</table>\n",
       "</div>"
      ],
      "text/plain": [
       "  Make:    Model: Year:      Trim:       Body type:         Exterior color:  \\\n",
       "0  Jeep  Wrangler  2022  Sport 4WD  SUV / crossover  Bright White Clearcoat   \n",
       "\n",
       "  Interior color:               VIN: Stock number:   Price:  \\\n",
       "0           Black  1C4GJXAN9NW272694      NW272694  $33,485   \n",
       "\n",
       "                                  Dealer Name:  \\\n",
       "0  Shottenkirk Prosper Chrysler Dodge Jeep Ram   \n",
       "\n",
       "                             Dealer Address:  \n",
       "0  2550 W University Dr<br>Prosper, TX 75078  "
      ]
     },
     "execution_count": 121,
     "metadata": {},
     "output_type": "execute_result"
    }
   ],
   "source": [
    "temp_df"
   ]
  },
  {
   "cell_type": "code",
   "execution_count": 138,
   "id": "addf528a",
   "metadata": {},
   "outputs": [
    {
     "data": {
      "text/html": [
       "<div>\n",
       "<style scoped>\n",
       "    .dataframe tbody tr th:only-of-type {\n",
       "        vertical-align: middle;\n",
       "    }\n",
       "\n",
       "    .dataframe tbody tr th {\n",
       "        vertical-align: top;\n",
       "    }\n",
       "\n",
       "    .dataframe thead th {\n",
       "        text-align: right;\n",
       "    }\n",
       "</style>\n",
       "<table border=\"1\" class=\"dataframe\">\n",
       "  <thead>\n",
       "    <tr style=\"text-align: right;\">\n",
       "      <th></th>\n",
       "      <th>Make:</th>\n",
       "      <th>Model:</th>\n",
       "      <th>Year:</th>\n",
       "      <th>Body type:</th>\n",
       "      <th>Exterior color:</th>\n",
       "      <th>Interior color:</th>\n",
       "      <th>Mileage:</th>\n",
       "      <th>VIN:</th>\n",
       "      <th>Stock number:</th>\n",
       "      <th>Price:</th>\n",
       "      <th>Dealer Name:</th>\n",
       "      <th>Dealer Address:</th>\n",
       "      <th>Trim:</th>\n",
       "    </tr>\n",
       "  </thead>\n",
       "  <tbody>\n",
       "    <tr>\n",
       "      <th>0</th>\n",
       "      <td>Ford</td>\n",
       "      <td>Bronco</td>\n",
       "      <td>2022</td>\n",
       "      <td>SUV / crossover</td>\n",
       "      <td>Race Red</td>\n",
       "      <td>Red (Pv)</td>\n",
       "      <td>15 mi</td>\n",
       "      <td>1FMDE5CP9NLB31549</td>\n",
       "      <td>221306</td>\n",
       "      <td>$51,895</td>\n",
       "      <td>SouthWest Ford</td>\n",
       "      <td>3000 Fort Worth Hwy&lt;br&gt;Weatherford, TX 76087</td>\n",
       "      <td>NaN</td>\n",
       "    </tr>\n",
       "    <tr>\n",
       "      <th>1</th>\n",
       "      <td>Ford</td>\n",
       "      <td>Bronco</td>\n",
       "      <td>2022</td>\n",
       "      <td>SUV / crossover</td>\n",
       "      <td>Cactus Gray</td>\n",
       "      <td>Gray (Tv)</td>\n",
       "      <td>3 mi</td>\n",
       "      <td>1FMEE5DP4NLA73093</td>\n",
       "      <td>221307</td>\n",
       "      <td>$59,565</td>\n",
       "      <td>SouthWest Ford</td>\n",
       "      <td>3000 Fort Worth Hwy&lt;br&gt;Weatherford, TX 76087</td>\n",
       "      <td>NaN</td>\n",
       "    </tr>\n",
       "    <tr>\n",
       "      <th>2</th>\n",
       "      <td>Ford</td>\n",
       "      <td>Bronco</td>\n",
       "      <td>2022</td>\n",
       "      <td>SUV / crossover</td>\n",
       "      <td>Race Red</td>\n",
       "      <td>Red (Pv)</td>\n",
       "      <td>15 mi</td>\n",
       "      <td>1FMDE5CP9NLB31549</td>\n",
       "      <td>221306</td>\n",
       "      <td>$51,895</td>\n",
       "      <td>SouthWest Ford</td>\n",
       "      <td>3000 Fort Worth Hwy&lt;br&gt;Weatherford, TX 76087</td>\n",
       "      <td>NaN</td>\n",
       "    </tr>\n",
       "    <tr>\n",
       "      <th>3</th>\n",
       "      <td>Ford</td>\n",
       "      <td>Bronco</td>\n",
       "      <td>2022</td>\n",
       "      <td>SUV / crossover</td>\n",
       "      <td>Cactus Gray</td>\n",
       "      <td>Gray (Tv)</td>\n",
       "      <td>3 mi</td>\n",
       "      <td>1FMEE5DP4NLA73093</td>\n",
       "      <td>221307</td>\n",
       "      <td>$59,565</td>\n",
       "      <td>SouthWest Ford</td>\n",
       "      <td>3000 Fort Worth Hwy&lt;br&gt;Weatherford, TX 76087</td>\n",
       "      <td>NaN</td>\n",
       "    </tr>\n",
       "    <tr>\n",
       "      <th>4</th>\n",
       "      <td>Jeep</td>\n",
       "      <td>Wrangler</td>\n",
       "      <td>2022</td>\n",
       "      <td>SUV / crossover</td>\n",
       "      <td>Bright White</td>\n",
       "      <td>Black</td>\n",
       "      <td>0 mi</td>\n",
       "      <td>1C4HJXDG2NW227579</td>\n",
       "      <td>227579</td>\n",
       "      <td>$48,270</td>\n",
       "      <td>Mac Haik Chrysler Dodge Jeep RAM Energy Corridor</td>\n",
       "      <td>12111 Katy Fwy&lt;br&gt;Houston, TX 77079</td>\n",
       "      <td>High Tide 4WD</td>\n",
       "    </tr>\n",
       "  </tbody>\n",
       "</table>\n",
       "</div>"
      ],
      "text/plain": [
       "  Make:    Model: Year:       Body type: Exterior color: Interior color:  \\\n",
       "0  Ford    Bronco  2022  SUV / crossover        Race Red        Red (Pv)   \n",
       "1  Ford    Bronco  2022  SUV / crossover     Cactus Gray       Gray (Tv)   \n",
       "2  Ford    Bronco  2022  SUV / crossover        Race Red        Red (Pv)   \n",
       "3  Ford    Bronco  2022  SUV / crossover     Cactus Gray       Gray (Tv)   \n",
       "4  Jeep  Wrangler  2022  SUV / crossover    Bright White           Black   \n",
       "\n",
       "  Mileage:               VIN: Stock number:   Price:  \\\n",
       "0    15 mi  1FMDE5CP9NLB31549        221306  $51,895   \n",
       "1     3 mi  1FMEE5DP4NLA73093        221307  $59,565   \n",
       "2    15 mi  1FMDE5CP9NLB31549        221306  $51,895   \n",
       "3     3 mi  1FMEE5DP4NLA73093        221307  $59,565   \n",
       "4     0 mi  1C4HJXDG2NW227579        227579  $48,270   \n",
       "\n",
       "                                       Dealer Name:  \\\n",
       "0                                    SouthWest Ford   \n",
       "1                                    SouthWest Ford   \n",
       "2                                    SouthWest Ford   \n",
       "3                                    SouthWest Ford   \n",
       "4  Mac Haik Chrysler Dodge Jeep RAM Energy Corridor   \n",
       "\n",
       "                                Dealer Address:          Trim:  \n",
       "0  3000 Fort Worth Hwy<br>Weatherford, TX 76087            NaN  \n",
       "1  3000 Fort Worth Hwy<br>Weatherford, TX 76087            NaN  \n",
       "2  3000 Fort Worth Hwy<br>Weatherford, TX 76087            NaN  \n",
       "3  3000 Fort Worth Hwy<br>Weatherford, TX 76087            NaN  \n",
       "4           12111 Katy Fwy<br>Houston, TX 77079  High Tide 4WD  "
      ]
     },
     "execution_count": 138,
     "metadata": {},
     "output_type": "execute_result"
    }
   ],
   "source": [
    "cars_df"
   ]
  },
  {
   "cell_type": "code",
   "execution_count": 125,
   "id": "4c7222d2",
   "metadata": {},
   "outputs": [
    {
     "data": {
      "text/plain": [
       "[]"
      ]
     },
     "execution_count": 125,
     "metadata": {},
     "output_type": "execute_result"
    }
   ],
   "source": [
    "failed_tries"
   ]
  },
  {
   "cell_type": "code",
   "execution_count": 73,
   "id": "fdc8a9c4",
   "metadata": {},
   "outputs": [
    {
     "data": {
      "text/plain": [
       "'$59,565'"
      ]
     },
     "execution_count": 73,
     "metadata": {},
     "output_type": "execute_result"
    }
   ],
   "source": [
    "search_str = \"IpF2YF\"\n",
    "title = browser.find_by_tag('h1')\n",
    "title[0].html.split(' ')[-1]"
   ]
  },
  {
   "cell_type": "code",
   "execution_count": null,
   "id": "1ecf8c71",
   "metadata": {},
   "outputs": [],
   "source": []
  }
 ],
 "metadata": {
  "kernelspec": {
   "display_name": "Python 3 (ipykernel)",
   "language": "python",
   "name": "python3"
  },
  "language_info": {
   "codemirror_mode": {
    "name": "ipython",
    "version": 3
   },
   "file_extension": ".py",
   "mimetype": "text/x-python",
   "name": "python",
   "nbconvert_exporter": "python",
   "pygments_lexer": "ipython3",
   "version": "3.8.12"
  }
 },
 "nbformat": 4,
 "nbformat_minor": 5
}
