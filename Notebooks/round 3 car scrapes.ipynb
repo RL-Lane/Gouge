{
 "cells": [
  {
   "cell_type": "code",
   "execution_count": 6,
   "id": "c16dc4dc",
   "metadata": {},
   "outputs": [],
   "source": [
    "import pandas as pd\n",
    "from splinter import Browser\n",
    "from bs4 import BeautifulSoup as bs\n",
    "from webdriver_manager.chrome import ChromeDriverManager\n",
    "import time \n",
    "import random"
   ]
  },
  {
   "cell_type": "code",
   "execution_count": 2,
   "id": "588088cb",
   "metadata": {},
   "outputs": [
    {
     "name": "stdout",
     "output_type": "stream",
     "text": [
      "\n"
     ]
    },
    {
     "name": "stderr",
     "output_type": "stream",
     "text": [
      "[WDM] - ====== WebDriver manager ======\n",
      "[WDM] - Current google-chrome version is 103.0.5060\n",
      "[WDM] - Get LATEST chromedriver version for 103.0.5060 google-chrome\n",
      "[WDM] - About to download new driver from https://chromedriver.storage.googleapis.com/103.0.5060.53/chromedriver_win32.zip\n",
      "[WDM] - Driver has been saved in cache [C:\\Users\\Rob\\.wdm\\drivers\\chromedriver\\win32\\103.0.5060.53]\n"
     ]
    }
   ],
   "source": [
    "# Setup splinter\n",
    "executable_path = {'executable_path': ChromeDriverManager().install()}\n",
    "browser = Browser('chrome', **executable_path, headless=False)"
   ]
  },
  {
   "cell_type": "code",
   "execution_count": 69,
   "id": "aa2aaaa5",
   "metadata": {},
   "outputs": [],
   "source": [
    "url_list = ['https://www.cargurus.com/Cars/new/searchresults.action?zip=76012&showNegotiable=true&sortDir=ASC&sourceContext=homePageNewCarTab_false_0&distance=50&sortType=PRICE&entitySelectingHelper.selectedEntity=d320#listing=333784109/NEWCAR_FEATURED',\n",
    "           'https://www.cargurus.com/Cars/new/searchresults.action?zip=76012&showNegotiable=true&sortDir=ASC&sourceContext=homePageNewCarTab_false_0&distance=50&sortType=PRICE&entitySelectingHelper.selectedEntity=d320#listing=333784118/NEWCAR_FEATURED',\n",
    "           'https://www.cargurus.com/Cars/new/searchresults.action?zip=78704&showNegotiable=true&sortDir=ASC&sourceContext=homePageNewCarTab_false_0&distance=50&sortType=PRICE&entitySelectingHelper.selectedEntity=d2412#listing=333651233/NONE',\n",
    "           'https://www.cargurus.com/Cars/new/searchresults.action?zip=76012&showNegotiable=true&sortDir=ASC&sourceContext=homePageNewCarTab_false_0&distance=50&sortType=PRICE&entitySelectingHelper.selectedEntity=d320#listing=333784109/NEWCAR_FEATURED']\n"
   ]
  },
  {
   "cell_type": "code",
   "execution_count": 4,
   "id": "69f00810",
   "metadata": {},
   "outputs": [],
   "source": [
    "cars_df = pd.DataFrame({})\n"
   ]
  },
  {
   "cell_type": "code",
   "execution_count": 87,
   "id": "15b521ee",
   "metadata": {},
   "outputs": [],
   "source": [
    "failed_tries = []"
   ]
  },
  {
   "cell_type": "code",
   "execution_count": 113,
   "id": "2c4d8564",
   "metadata": {},
   "outputs": [],
   "source": [
    "\n",
    "# start with just 1 loop\n",
    "for i in range(0,1):\n",
    "#     browser.visit(url_list[i])\n",
    "#     time.sleep(random.randint(3,6))\n",
    "    \n",
    "    # place into try / except block:\n",
    "    try:\n",
    "        # scrape using find by tag (section).  Should return list.\n",
    "        keys = browser.find_by_tag('dl').find_by_tag('dt')\n",
    "        values = browser.find_by_tag('dl').find_by_tag('dd')\n",
    "\n",
    "        # loop through section list and find the one that has \"Dealer's Price\"\n",
    "#         section_list = []\n",
    "#         for e in elems:\n",
    "#             section_list.append(e.html)\n",
    "        # extract section list item into section variable\n",
    "\n",
    "        # run replaces on tags in section to turn it into table\n",
    "        \n",
    "\n",
    "        # put table into single dataframe temp_df (NOT scrape_cars_df)\n",
    "        temp_df = pd.DataFrame({})\n",
    "        for i in range(len(keys)):\n",
    "\n",
    "            temp_df[keys[i].text]= [values[i].text]\n",
    "        temp_df\n",
    "        \n",
    "        # create search string to find remaining car data\n",
    "        # search_str = \" - \" + temp_df[\"Dealer's Price:\"][0]\n",
    "        # find <h1> tag which contains search_str\n",
    "        search_str = \"IpF2YF\"\n",
    "        title = browser.find_by_tag('h1')\n",
    "        price = title[0].html.split(' ')[-1]\n",
    "        model = title[0].html.split(' ')[2]\n",
    "        \n",
    "        temp_df['Price:'] = [price]\n",
    "        temp_df['Model:'] = [model]\n",
    "        \n",
    "        # split element string by space\n",
    "        # year = e[0]\n",
    "        # make = e[1]\n",
    "        # model = e[2]\n",
    "        dealernames = browser.find_by_tag('a')\n",
    "        for d in dealernames:\n",
    "            if d['data-cg-ft'] == 'vdp-dealer-cg-homepage-link':\n",
    "                dealername = d.text\n",
    "        temp_df['Dealer Name:'] = [dealername]\n",
    "        # add columns and data to dataframe (temp_df['year'] = [year])\n",
    "\n",
    "        # append new dataframe to scrape_cars_df if successful\n",
    "        cars_df.append(temp_df)\n",
    "    \n",
    "    # except: add i into failed list\n",
    "    except:\n",
    "        failed_tries.append(i)\n"
   ]
  },
  {
   "cell_type": "code",
   "execution_count": 112,
   "id": "a08982f3",
   "metadata": {},
   "outputs": [
    {
     "name": "stdout",
     "output_type": "stream",
     "text": [
      "Shottenkirk Prosper Chrysler Dodge Jeep Ram\n"
     ]
    }
   ],
   "source": [
    "dealernames = browser.find_by_tag('a')\n",
    "for d in dealernames:\n",
    "    if d['data-cg-ft'] == 'vdp-dealer-cg-homepage-link':\n",
    "        print(d.text)\n",
    "    \n",
    "#     print(d['data-cg-ft'])\n",
    "    \n",
    "#     if 'vdp-dealer-cg-homepage' in d['data-cg-ft']:\n",
    "#         print(d.html)\n",
    "    \n",
    "    \n",
    "#     if 'vdp-dealer-cg-homepage' in d:\n",
    "#         print(d.html)"
   ]
  },
  {
   "cell_type": "code",
   "execution_count": 114,
   "id": "f183080a",
   "metadata": {
    "scrolled": false
   },
   "outputs": [
    {
     "data": {
      "text/html": [
       "<div>\n",
       "<style scoped>\n",
       "    .dataframe tbody tr th:only-of-type {\n",
       "        vertical-align: middle;\n",
       "    }\n",
       "\n",
       "    .dataframe tbody tr th {\n",
       "        vertical-align: top;\n",
       "    }\n",
       "\n",
       "    .dataframe thead th {\n",
       "        text-align: right;\n",
       "    }\n",
       "</style>\n",
       "<table border=\"1\" class=\"dataframe\">\n",
       "  <thead>\n",
       "    <tr style=\"text-align: right;\">\n",
       "      <th></th>\n",
       "      <th>Make:</th>\n",
       "      <th>Model:</th>\n",
       "      <th>Year:</th>\n",
       "      <th>Trim:</th>\n",
       "      <th>Body type:</th>\n",
       "      <th>Exterior color:</th>\n",
       "      <th>Interior color:</th>\n",
       "      <th>VIN:</th>\n",
       "      <th>Stock number:</th>\n",
       "      <th>Price:</th>\n",
       "      <th>Dealer Name:</th>\n",
       "    </tr>\n",
       "  </thead>\n",
       "  <tbody>\n",
       "    <tr>\n",
       "      <th>0</th>\n",
       "      <td>Jeep</td>\n",
       "      <td>Wrangler</td>\n",
       "      <td>2022</td>\n",
       "      <td>Sport 4WD</td>\n",
       "      <td>SUV / crossover</td>\n",
       "      <td>Bright White Clearcoat</td>\n",
       "      <td>Black</td>\n",
       "      <td>1C4GJXAN9NW272694</td>\n",
       "      <td>NW272694</td>\n",
       "      <td>$33,485</td>\n",
       "      <td>Shottenkirk Prosper Chrysler Dodge Jeep Ram</td>\n",
       "    </tr>\n",
       "  </tbody>\n",
       "</table>\n",
       "</div>"
      ],
      "text/plain": [
       "  Make:    Model: Year:      Trim:       Body type:         Exterior color:  \\\n",
       "0  Jeep  Wrangler  2022  Sport 4WD  SUV / crossover  Bright White Clearcoat   \n",
       "\n",
       "  Interior color:               VIN: Stock number:   Price:  \\\n",
       "0           Black  1C4GJXAN9NW272694      NW272694  $33,485   \n",
       "\n",
       "                                  Dealer Name:  \n",
       "0  Shottenkirk Prosper Chrysler Dodge Jeep Ram  "
      ]
     },
     "execution_count": 114,
     "metadata": {},
     "output_type": "execute_result"
    }
   ],
   "source": [
    "temp_df"
   ]
  },
  {
   "cell_type": "code",
   "execution_count": 86,
   "id": "3fa55851",
   "metadata": {},
   "outputs": [
    {
     "data": {
      "text/plain": [
       "[0]"
      ]
     },
     "execution_count": 86,
     "metadata": {},
     "output_type": "execute_result"
    }
   ],
   "source": [
    "failed_tries"
   ]
  },
  {
   "cell_type": "code",
   "execution_count": 73,
   "id": "799ee1e6",
   "metadata": {},
   "outputs": [
    {
     "data": {
      "text/plain": [
       "'$59,565'"
      ]
     },
     "execution_count": 73,
     "metadata": {},
     "output_type": "execute_result"
    }
   ],
   "source": [
    "search_str = \"IpF2YF\"\n",
    "title = browser.find_by_tag('h1')\n",
    "title[0].html.split(' ')[-1]"
   ]
  },
  {
   "cell_type": "code",
   "execution_count": null,
   "id": "38f48ef1",
   "metadata": {},
   "outputs": [],
   "source": []
  }
 ],
 "metadata": {
  "kernelspec": {
   "display_name": "Python 3 (ipykernel)",
   "language": "python",
   "name": "python3"
  },
  "language_info": {
   "codemirror_mode": {
    "name": "ipython",
    "version": 3
   },
   "file_extension": ".py",
   "mimetype": "text/x-python",
   "name": "python",
   "nbconvert_exporter": "python",
   "pygments_lexer": "ipython3",
   "version": "3.8.12"
  }
 },
 "nbformat": 4,
 "nbformat_minor": 5
}
