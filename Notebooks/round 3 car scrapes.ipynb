{
 "cells": [
  {
   "cell_type": "code",
   "execution_count": 2,
   "id": "c16dc4dc",
   "metadata": {},
   "outputs": [],
   "source": [
    "import pandas as pd\n",
    "from splinter import Browser\n",
    "from bs4 import BeautifulSoup as bs\n",
    "from webdriver_manager.chrome import ChromeDriverManager\n",
    "import time \n",
    "import sys"
   ]
  },
  {
   "cell_type": "code",
   "execution_count": null,
   "id": "588088cb",
   "metadata": {},
   "outputs": [],
   "source": [
    "# Setup splinter\n",
    "executable_path = {'executable_path': ChromeDriverManager().install()}\n",
    "browser = Browser('chrome', **executable_path, headless=False)"
   ]
  },
  {
   "cell_type": "code",
   "execution_count": null,
   "id": "aa2aaaa5",
   "metadata": {},
   "outputs": [],
   "source": [
    "url_list = ['https://www.cargurus.com/Cars/new/searchresults.action?zip=76012&showNegotiable=true&sortDir=ASC&sourceContext=homePageNewCarTab_false_0&distance=50&sortType=PRICE&entitySelectingHelper.selectedEntity=d320#listing=333784109/NEWCAR_FEATURED',\n",
    "           'https://www.cargurus.com/Cars/new/searchresults.action?zip=76012&showNegotiable=true&sortDir=ASC&sourceContext=homePageNewCarTab_false_0&distance=50&sortType=PRICE&entitySelectingHelper.selectedEntity=d320#listing=333784110/NEWCAR_FEATURED']\n"
   ]
  },
  {
   "cell_type": "code",
   "execution_count": 3,
   "id": "69f00810",
   "metadata": {},
   "outputs": [],
   "source": [
    "cars_df = pd.DataFrame({})\n",
    "failed_tries = []"
   ]
  },
  {
   "cell_type": "code",
   "execution_count": null,
   "id": "2c4d8564",
   "metadata": {},
   "outputs": [],
   "source": [
    "\n",
    "# start with just 1 loop\n",
    "for i in range(0,1):\n",
    "    browser.visit(url_list[i])\n",
    "    time.sleep(random.randint(3,6))\n",
    "    \n",
    "    # place into try / except block:\n",
    "    try:\n",
    "        # scrape using find by tag (section).  Should return list.\n",
    "        elems = browser.find_by_tag('section')\n",
    "\n",
    "        # loop through section list and find the one that has \"Dealer's Price\"\n",
    "        \n",
    "        # extract section list item into section variable\n",
    "\n",
    "        # run replaces on tags in section to turn it into table\n",
    "\n",
    "        # put table into single dataframe temp_df (NOT scrape_cars_df)\n",
    "        \n",
    "        # create search string to find remaining car data\n",
    "        # search_str = \" - \" + temp_df[\"Dealer's Price:\"][0]\n",
    "        # find <h1> tag which contains search_str\n",
    "        \n",
    "        # split element string by space\n",
    "        # year = e[0]\n",
    "        # make = e[1]\n",
    "        # model = e[2]\n",
    "        \n",
    "        # add columns and data to dataframe (temp_df['year'] = [year])\n",
    "\n",
    "        # append new dataframe to scrape_cars_df if successful\n",
    "    \n",
    "    # except: add i into failed list\n",
    "    except:\n",
    "        failed_tries.append(i)\n"
   ]
  }
 ],
 "metadata": {
  "kernelspec": {
   "display_name": "Python 3 (ipykernel)",
   "language": "python",
   "name": "python3"
  },
  "language_info": {
   "codemirror_mode": {
    "name": "ipython",
    "version": 3
   },
   "file_extension": ".py",
   "mimetype": "text/x-python",
   "name": "python",
   "nbconvert_exporter": "python",
   "pygments_lexer": "ipython3",
   "version": "3.8.12"
  }
 },
 "nbformat": 4,
 "nbformat_minor": 5
}
