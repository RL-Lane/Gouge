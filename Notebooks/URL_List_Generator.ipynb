{
 "cells": [
  {
   "cell_type": "markdown",
   "id": "955947ec",
   "metadata": {},
   "source": [
    "# Generates lists of url for further scraping"
   ]
  },
  {
   "cell_type": "code",
   "execution_count": 5,
   "id": "9f8b85d8",
   "metadata": {},
   "outputs": [],
   "source": [
    "import pandas as pd\n",
    "# from splinter import Browser\n",
    "# from bs4 import BeautifulSoup\n",
    "# from webdriver_manager.chrome import ChromeDriverManager\n"
   ]
  },
  {
   "cell_type": "code",
   "execution_count": 6,
   "id": "2ba08f40",
   "metadata": {},
   "outputs": [],
   "source": [
    "# Setup splinter\n",
    "# executable_path = {'executable_path': ChromeDriverManager().install()}\n",
    "# browser = Browser('chrome', **executable_path, headless=False)"
   ]
  },
  {
   "cell_type": "code",
   "execution_count": 7,
   "id": "d208cadb",
   "metadata": {},
   "outputs": [],
   "source": [
    "# setup variables for scraping\n",
    "zipcodes = [76012 # Arlington, TX\n",
    "#             ,78234 # San Antonio, TX\n",
    "#             ,78704 # Austin\n",
    "#             ,77033 # Houston\n",
    "           ]\n",
    "\n",
    "radius = 50 #miles\n",
    "\n",
    "# Commas before each list item are non-standard and ugly, but they let us \n",
    "# comment out what lines we need without deleting or writing commas.\n",
    "\n",
    "# You can comment out individual models, but if you comment out a make,\n",
    "# you need to comment out the whole dictionary that follows.\n",
    "cargurus = {\n",
    "    'ford': {\n",
    "        'bronco': ['d320']\n",
    "#          ,'maverick': ['d1293']\n",
    "    }\n",
    "    \n",
    "#      ,'gmc': {\n",
    "#          'hummer ev': ['d3104']\n",
    "#      }\n",
    "    \n",
    "#      ,'chevrolet': {\n",
    "#          'blazer': ['d602']\n",
    "#      }\n",
    "    \n",
    "#      ,'jeep': {\n",
    "#          'wrangler' : ['d494', 'd2412', 'd3134']\n",
    "#      }\n",
    "    \n",
    "#      ,'toyota': {\n",
    "#          'tundra' : ['d313']\n",
    "#      }\n",
    "}"
   ]
  },
  {
   "cell_type": "code",
   "execution_count": 8,
   "id": "3c29c191",
   "metadata": {
    "scrolled": false
   },
   "outputs": [
    {
     "name": "stdout",
     "output_type": "stream",
     "text": [
      "https://www.cargurus.com/Cars/new/searchresults.action?zip=76012&showNegotiable=true&sortDir=ASC&sourceContext=homePageNewCarTab_false_0&distance=50&sortType=PRICE&entitySelectingHelper.selectedEntity=d320\n",
      "\n"
     ]
    }
   ],
   "source": [
    "scrapeURLs = []\n",
    "\n",
    "for zipcode in zipcodes:\n",
    "    for key in cargurus:\n",
    "        make = cargurus[key]\n",
    "        makekey = key\n",
    "\n",
    "        for key in make:\n",
    "            model = make[key]\n",
    "            modelkey = key\n",
    "            \n",
    "            for modelcode in model:\n",
    "                    \n",
    "#                 fakeurl = f'make: {makekey}   model: {modelkey}   modelcode: {modelcode}'\n",
    "#                 print(fakeurl)\n",
    "\n",
    "                url = f'https://www.cargurus.com/Cars/new/searchresults.action?zip={zipcode}&showNegotiable=true&sortDir=ASC&sourceContext=homePageNewCarTab_false_0&distance=50&sortType=PRICE&entitySelectingHelper.selectedEntity={modelcode}'\n",
    "                \n",
    "                scrapeURLs.append(url)\n",
    "for url in scrapeURLs:\n",
    "    print(url + '\\n')"
   ]
  },
  {
   "cell_type": "code",
   "execution_count": 9,
   "id": "a117f8fa",
   "metadata": {
    "scrolled": true
   },
   "outputs": [
    {
     "data": {
      "text/html": [
       "<div>\n",
       "<style scoped>\n",
       "    .dataframe tbody tr th:only-of-type {\n",
       "        vertical-align: middle;\n",
       "    }\n",
       "\n",
       "    .dataframe tbody tr th {\n",
       "        vertical-align: top;\n",
       "    }\n",
       "\n",
       "    .dataframe thead th {\n",
       "        text-align: right;\n",
       "    }\n",
       "</style>\n",
       "<table border=\"1\" class=\"dataframe\">\n",
       "  <thead>\n",
       "    <tr style=\"text-align: right;\">\n",
       "      <th></th>\n",
       "      <th>urls</th>\n",
       "    </tr>\n",
       "  </thead>\n",
       "  <tbody>\n",
       "    <tr>\n",
       "      <th>0</th>\n",
       "      <td>https://www.cargurus.com/Cars/new/searchresult...</td>\n",
       "    </tr>\n",
       "  </tbody>\n",
       "</table>\n",
       "</div>"
      ],
      "text/plain": [
       "                                                urls\n",
       "0  https://www.cargurus.com/Cars/new/searchresult..."
      ]
     },
     "execution_count": 9,
     "metadata": {},
     "output_type": "execute_result"
    }
   ],
   "source": [
    "url_df = pd.DataFrame({\n",
    "    \"urls\": scrapeURLs\n",
    "})\n",
    "url_df"
   ]
  },
  {
   "cell_type": "code",
   "execution_count": 10,
   "id": "beed7c7e",
   "metadata": {},
   "outputs": [],
   "source": [
    "url_df.to_csv(\"../Resources/base_url_list.csv\", index=False)"
   ]
  },
  {
   "cell_type": "code",
   "execution_count": null,
   "id": "ff10caf7",
   "metadata": {},
   "outputs": [],
   "source": []
  },
  {
   "cell_type": "code",
   "execution_count": null,
   "id": "afb0fea9",
   "metadata": {},
   "outputs": [],
   "source": []
  }
 ],
 "metadata": {
  "kernelspec": {
   "display_name": "Python 3 (ipykernel)",
   "language": "python",
   "name": "python3"
  },
  "language_info": {
   "codemirror_mode": {
    "name": "ipython",
    "version": 3
   },
   "file_extension": ".py",
   "mimetype": "text/x-python",
   "name": "python",
   "nbconvert_exporter": "python",
   "pygments_lexer": "ipython3",
   "version": "3.9.7"
  }
 },
 "nbformat": 4,
 "nbformat_minor": 5
}
