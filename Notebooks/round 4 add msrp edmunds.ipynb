{
 "cells": [
  {
   "cell_type": "code",
   "execution_count": 1,
   "id": "c16dc4dc",
   "metadata": {},
   "outputs": [],
   "source": [
    "import pandas as pd\n",
    "from splinter import Browser\n",
    "from bs4 import BeautifulSoup as bs\n",
    "from webdriver_manager.chrome import ChromeDriverManager\n",
    "import time \n",
    "import random"
   ]
  },
  {
   "cell_type": "code",
   "execution_count": null,
   "id": "588088cb",
   "metadata": {},
   "outputs": [
    {
     "name": "stdout",
     "output_type": "stream",
     "text": [
      "\n"
     ]
    },
    {
     "name": "stderr",
     "output_type": "stream",
     "text": [
      "[WDM] - ====== WebDriver manager ======\n"
     ]
    }
   ],
   "source": [
    "# Setup splinter\n",
    "executable_path = {'executable_path': ChromeDriverManager().install()}\n",
    "browser = Browser('chrome', **executable_path, headless=False)"
   ]
  },
  {
   "cell_type": "code",
   "execution_count": 153,
   "id": "aa2aaaa5",
   "metadata": {
    "scrolled": true
   },
   "outputs": [],
   "source": [
    "# url_list = ['https://www.cargurus.com/Cars/new/searchresults.action?zip=76012&showNegotiable=true&sortDir=ASC&sourceContext=homePageNewCarTab_false_0&distance=50&sortType=PRICE&entitySelectingHelper.selectedEntity=d320#listing=333784109/NEWCAR_FEATURED',\n",
    "#            'https://www.cargurus.com/Cars/new/searchresults.action?zip=76012&showNegotiable=true&sortDir=ASC&sourceContext=homePageNewCarTab_false_0&distance=50&sortType=PRICE&entitySelectingHelper.selectedEntity=d320#listing=333784118/NEWCAR_FEATURED',\n",
    "#            'https://www.cargurus.com/Cars/new/searchresults.action?zip=78704&showNegotiable=true&sortDir=ASC&sourceContext=homePageNewCarTab_false_0&distance=50&sortType=PRICE&entitySelectingHelper.selectedEntity=d2412#listing=333651233/NONE',\n",
    "#            'https://www.cargurus.com/Cars/new/searchresults.action?zip=76012&showNegotiable=true&sortDir=ASC&sourceContext=homePageNewCarTab_false_0&distance=50&sortType=PRICE&entitySelectingHelper.selectedEntity=d320#listing=333784109/NEWCAR_FEATURED']\n",
    "\n",
    "cg_df = pd.read_csv(\"../Resources/All Scraping Data/all_scraping_data.csv\")\n",
    "\n",
    "# cg_df = pd.read_csv(\"../Resources/msrp.csv\")\n",
    "# cg_df"
   ]
  },
  {
   "cell_type": "code",
   "execution_count": 154,
   "id": "05085c4f",
   "metadata": {},
   "outputs": [],
   "source": [
    "\n",
    "\n",
    "models = cg_df['Model:']\n",
    "makes = cg_df['Make:']\n",
    "years = cg_df['Year:']\n",
    "\n",
    "vins = cg_df['VIN:']\n",
    "msrps = cg_df['MSRP:']\n",
    "\n",
    "\n",
    "\n"
   ]
  },
  {
   "cell_type": "code",
   "execution_count": 56,
   "id": "69f00810",
   "metadata": {},
   "outputs": [],
   "source": [
    "cars_df = pd.DataFrame({})\n"
   ]
  },
  {
   "cell_type": "code",
   "execution_count": 57,
   "id": "5196f753",
   "metadata": {},
   "outputs": [],
   "source": [
    "failed_tries = []"
   ]
  },
  {
   "cell_type": "code",
   "execution_count": 155,
   "id": "2c4d8564",
   "metadata": {
    "scrolled": true
   },
   "outputs": [
    {
     "ename": "SyntaxError",
     "evalue": "invalid syntax (Temp/ipykernel_18376/234768406.py, line 54)",
     "output_type": "error",
     "traceback": [
      "\u001b[1;36m  File \u001b[1;32m\"C:\\Users\\Rob\\AppData\\Local\\Temp/ipykernel_18376/234768406.py\"\u001b[1;36m, line \u001b[1;32m54\u001b[0m\n\u001b[1;33m    msrps[i] --\u001b[0m\n\u001b[1;37m               ^\u001b[0m\n\u001b[1;31mSyntaxError\u001b[0m\u001b[1;31m:\u001b[0m invalid syntax\n"
     ]
    }
   ],
   "source": [
    "\n",
    "baseURL = \"https://www.edmunds.com/\"\n",
    "start = 0\n",
    "end = 10\n",
    "# start with just 1 loop\n",
    "for i in range(start,end):\n",
    "    clear_output(wait=True)\n",
    "    if msrps[i] == '':\n",
    "        if models[i] == 'Bronco':\n",
    "            years[i] == 2022\n",
    "            makes[i] == 'Ford'\n",
    "            \n",
    "        elif models[i] == 'Maverick':\n",
    "            years[i] == 2022\n",
    "            makes[i] == 'Ford'\n",
    "            \n",
    "        elif models[i] == 'Wrangler':\n",
    "            if not(years[i] > 0):\n",
    "                years[i] == 2022\n",
    "            makes[i] == 'Jeep'\n",
    "            \n",
    "        elif models[i] == 'Hummer':\n",
    "            years[i] == 2022\n",
    "            makes[i] == 'GMC'\n",
    "            \n",
    "        elif models[i] == 'Blazer':\n",
    "            if not(years[i] > 0):\n",
    "                years[i] == 2022\n",
    "            makes[i] == 'Chevrolet'\n",
    "            \n",
    "        elif models[i] == 'Tundra':\n",
    "            if not(years[i] > 0):\n",
    "                years[i] == 2022\n",
    "            makes[i] == 'Toyota'\n",
    "            \n",
    "            \n",
    "        visiturl = baseURL + makes[i].lower() + '/' + models[i].lower() + '/' + str(int(years[i])) + '/vin/' + vins[i] + '/'\n",
    "        browser.visit(visiturl)\n",
    "        time.sleep(random.randint(2,4))\n",
    "\n",
    "        # place into try / except block:\n",
    "        try:\n",
    "            \n",
    "            \n",
    "            print(f\"Adding {i} of {end}\")\n",
    "            # scrape using find by tag (section).  Should return list.\n",
    "            \n",
    "            msrp_search = browser.find_by_tag('span')\n",
    "            for m in msrp_search:\n",
    "                if m['data-test'] == 'vdp-price-row':\n",
    "                    msrps[i] = int(m.text.replace('$','').replace(',',''))\n",
    "#             msrps[i] = int(msrp_result.replace('$','').replace(',',''))\n",
    "            # add columns and data to dataframe (temp_df['year'] = [year])\n",
    "            if msrps[i] == 0:\n",
    "                msrps[i] --\n",
    "            print('.', end='')\n",
    "\n",
    "            \n",
    "            # append new dataframe to scrape_cars_df if successful\n",
    "            \n",
    "\n",
    "#             cars_df = pd.concat([cars_df, temp_df], axis=0, ignore_index=True)\n",
    "            print(' Success!')\n",
    "\n",
    "\n",
    "        # except: add i into failed list\n",
    "        except:\n",
    "            failed_tries.append(i)\n",
    "            print(' Error found.')\n",
    "            msrps[i] = '-1'\n",
    "            \n",
    "cg_df['Model:'] = models\n",
    "cg_df['Make:'] = makes\n",
    "cg_df['Year:'] = years\n",
    "\n",
    "cg_df['MSRP:'] = msrps\n",
    "\n",
    "cg_df.to_csv(f'../Resources/msrp.csv')"
   ]
  },
  {
   "cell_type": "code",
   "execution_count": 35,
   "id": "4c7222d2",
   "metadata": {
    "scrolled": true
   },
   "outputs": [
    {
     "data": {
      "text/plain": [
       "30"
      ]
     },
     "execution_count": 35,
     "metadata": {},
     "output_type": "execute_result"
    }
   ],
   "source": [
    "len(failed_tries)"
   ]
  },
  {
   "cell_type": "code",
   "execution_count": 71,
   "id": "1ecf8c71",
   "metadata": {},
   "outputs": [
    {
     "data": {
      "text/plain": [
       "45740"
      ]
     },
     "execution_count": 71,
     "metadata": {},
     "output_type": "execute_result"
    }
   ],
   "source": [
    "msrp_search = browser.find_by_tag('span')\n",
    "for m in msrp_search:\n",
    "    if m['data-test'] == 'vdp-price-row':\n",
    "        msrp_result = m.text\n",
    "msrps[i] = int(msrp_result.replace('$','').replace(',',''))"
   ]
  },
  {
   "cell_type": "code",
   "execution_count": 81,
   "id": "5d4eecce",
   "metadata": {},
   "outputs": [
    {
     "name": "stdout",
     "output_type": "stream",
     "text": [
      "https://www.edmunds.com/ ford / bronco / 2022 /vin/ 1FMDE5BH9NLB13062 /\n"
     ]
    },
    {
     "data": {
      "text/plain": [
       "'https://www.edmunds.com/ford/bronco/2022/vin/1FMDE5BH9NLB13062/'"
      ]
     },
     "execution_count": 81,
     "metadata": {},
     "output_type": "execute_result"
    }
   ],
   "source": [
    "# visiturl = baseURL + makes[i].lower + '/' + models[i].lower + '/' + str(int(years[i])) + '/vin/' + vins[i] + '/'\n",
    "i = 5\n",
    "print(baseURL, makes[i].lower() , '/' , models[i].lower() , '/' , str(int(years[i])) , '/vin/' , vins[i] , '/')\n",
    "visiturl = baseURL + makes[i].lower() + '/' + models[i].lower() + '/' + str(int(years[i])) + '/vin/' + vins[i] + '/'\n",
    "visiturl"
   ]
  },
  {
   "cell_type": "code",
   "execution_count": 146,
   "id": "9a7319ad",
   "metadata": {
    "scrolled": false
   },
   "outputs": [
    {
     "name": "stdout",
     "output_type": "stream",
     "text": [
      "0\n",
      "0\n",
      "37800\n",
      "0\n",
      "41905\n",
      "0\n",
      "0\n",
      "0\n",
      "38365\n",
      "36295\n",
      "0\n",
      "0\n",
      "0\n",
      "0\n",
      "0\n",
      "0\n",
      "0\n",
      "0\n",
      "0\n",
      "0\n"
     ]
    }
   ],
   "source": [
    "for m in msrps[0:20]:\n",
    "    print(m)"
   ]
  },
  {
   "cell_type": "code",
   "execution_count": 148,
   "id": "e4aa68f5",
   "metadata": {},
   "outputs": [
    {
     "data": {
      "text/plain": [
       "True"
      ]
     },
     "execution_count": 148,
     "metadata": {},
     "output_type": "execute_result"
    }
   ],
   "source": [
    "msrps[0] == 0"
   ]
  }
 ],
 "metadata": {
  "kernelspec": {
   "display_name": "Python 3 (ipykernel)",
   "language": "python",
   "name": "python3"
  },
  "language_info": {
   "codemirror_mode": {
    "name": "ipython",
    "version": 3
   },
   "file_extension": ".py",
   "mimetype": "text/x-python",
   "name": "python",
   "nbconvert_exporter": "python",
   "pygments_lexer": "ipython3",
   "version": "3.8.12"
  }
 },
 "nbformat": 4,
 "nbformat_minor": 5
}
