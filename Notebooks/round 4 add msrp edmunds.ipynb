{
 "cells": [
  {
   "cell_type": "code",
   "execution_count": 1,
   "id": "c16dc4dc",
   "metadata": {},
   "outputs": [],
   "source": [
    "import pandas as pd\n",
    "from splinter import Browser\n",
    "from bs4 import BeautifulSoup as bs\n",
    "from webdriver_manager.chrome import ChromeDriverManager\n",
    "import time \n",
    "import random"
   ]
  },
  {
   "cell_type": "code",
   "execution_count": 2,
   "id": "588088cb",
   "metadata": {},
   "outputs": [
    {
     "name": "stdout",
     "output_type": "stream",
     "text": [
      "\n"
     ]
    },
    {
     "name": "stderr",
     "output_type": "stream",
     "text": [
      "[WDM] - ====== WebDriver manager ======\n",
      "[WDM] - Current google-chrome version is 103.0.5060\n",
      "[WDM] - Get LATEST chromedriver version for 103.0.5060 google-chrome\n",
      "[WDM] - Driver [C:\\Users\\Rob\\.wdm\\drivers\\chromedriver\\win32\\103.0.5060.53\\chromedriver.exe] found in cache\n"
     ]
    }
   ],
   "source": [
    "# Setup splinter\n",
    "executable_path = {'executable_path': ChromeDriverManager().install()}\n",
    "browser = Browser('chrome', **executable_path, headless=False)"
   ]
  },
  {
   "cell_type": "code",
   "execution_count": 153,
   "id": "aa2aaaa5",
   "metadata": {
    "scrolled": true
   },
   "outputs": [],
   "source": [
    "# url_list = ['https://www.cargurus.com/Cars/new/searchresults.action?zip=76012&showNegotiable=true&sortDir=ASC&sourceContext=homePageNewCarTab_false_0&distance=50&sortType=PRICE&entitySelectingHelper.selectedEntity=d320#listing=333784109/NEWCAR_FEATURED',\n",
    "#            'https://www.cargurus.com/Cars/new/searchresults.action?zip=76012&showNegotiable=true&sortDir=ASC&sourceContext=homePageNewCarTab_false_0&distance=50&sortType=PRICE&entitySelectingHelper.selectedEntity=d320#listing=333784118/NEWCAR_FEATURED',\n",
    "#            'https://www.cargurus.com/Cars/new/searchresults.action?zip=78704&showNegotiable=true&sortDir=ASC&sourceContext=homePageNewCarTab_false_0&distance=50&sortType=PRICE&entitySelectingHelper.selectedEntity=d2412#listing=333651233/NONE',\n",
    "#            'https://www.cargurus.com/Cars/new/searchresults.action?zip=76012&showNegotiable=true&sortDir=ASC&sourceContext=homePageNewCarTab_false_0&distance=50&sortType=PRICE&entitySelectingHelper.selectedEntity=d320#listing=333784109/NEWCAR_FEATURED']\n",
    "\n",
    "cg_df = pd.read_csv(\"../Resources/All Scraping Data/all_scraping_data.csv\")\n",
    "\n",
    "# cg_df"
   ]
  },
  {
   "cell_type": "code",
   "execution_count": 8,
   "id": "05085c4f",
   "metadata": {},
   "outputs": [],
   "source": [
    "cg_df = pd.read_csv(\"../Resources/msrp.csv\")\n",
    "\n",
    "\n",
    "models = cg_df['Model:']\n",
    "makes = cg_df['Make:']\n",
    "years = cg_df['Year:']\n",
    "\n",
    "vins = cg_df['VIN:']\n",
    "msrps = cg_df['MSRP:']\n",
    "\n",
    "\n",
    "\n"
   ]
  },
  {
   "cell_type": "code",
   "execution_count": 56,
   "id": "69f00810",
   "metadata": {},
   "outputs": [],
   "source": [
    "cars_df = pd.DataFrame({})\n"
   ]
  },
  {
   "cell_type": "code",
   "execution_count": 9,
   "id": "5196f753",
   "metadata": {},
   "outputs": [],
   "source": [
    "failed_tries = []"
   ]
  },
  {
   "cell_type": "code",
   "execution_count": 14,
   "id": "2c4d8564",
   "metadata": {
    "scrolled": true
   },
   "outputs": [
    {
     "name": "stdout",
     "output_type": "stream",
     "text": [
      "Adding 10 of 50\n"
     ]
    },
    {
     "name": "stderr",
     "output_type": "stream",
     "text": [
      "C:\\Users\\Rob\\AppData\\Local\\Temp/ipykernel_23528/1571478205.py:50: SettingWithCopyWarning: \n",
      "A value is trying to be set on a copy of a slice from a DataFrame\n",
      "\n",
      "See the caveats in the documentation: https://pandas.pydata.org/pandas-docs/stable/user_guide/indexing.html#returning-a-view-versus-a-copy\n",
      "  msrps[i] = int(m.text.replace('$','').replace(',',''))\n"
     ]
    },
    {
     "name": "stdout",
     "output_type": "stream",
     "text": [
      ". Success!\n",
      "Adding 11 of 50\n",
      ". Success!\n",
      "Adding 12 of 50\n",
      ". Success!\n",
      "Adding 13 of 50\n"
     ]
    },
    {
     "name": "stderr",
     "output_type": "stream",
     "text": [
      "C:\\Users\\Rob\\AppData\\Local\\Temp/ipykernel_23528/1571478205.py:54: SettingWithCopyWarning: \n",
      "A value is trying to be set on a copy of a slice from a DataFrame\n",
      "\n",
      "See the caveats in the documentation: https://pandas.pydata.org/pandas-docs/stable/user_guide/indexing.html#returning-a-view-versus-a-copy\n",
      "  msrps[i] = -1\n"
     ]
    },
    {
     "name": "stdout",
     "output_type": "stream",
     "text": [
      ". Success!\n",
      "Adding 14 of 50\n",
      ". Success!\n",
      "Adding 15 of 50\n",
      ". Success!\n",
      "Adding 16 of 50\n",
      ". Success!\n"
     ]
    },
    {
     "ename": "WebDriverException",
     "evalue": "Message: unknown error: unexpected command response\n  (Session info: chrome=103.0.5060.114)\nStacktrace:\nBacktrace:\n\tOrdinal0 [0x004F6463+2188387]\n\tOrdinal0 [0x0048E461+1762401]\n\tOrdinal0 [0x003A3D78+802168]\n\tOrdinal0 [0x00397210+750096]\n\tOrdinal0 [0x0039675A+747354]\n\tOrdinal0 [0x00395D3F+744767]\n\tOrdinal0 [0x0039557C+742780]\n\tOrdinal0 [0x003A9BF3+826355]\n\tOrdinal0 [0x003FCF6D+1167213]\n\tOrdinal0 [0x003EC5F6+1099254]\n\tOrdinal0 [0x003C6BE0+945120]\n\tOrdinal0 [0x003C7AD6+948950]\n\tGetHandleVerifier [0x007971F2+2712546]\n\tGetHandleVerifier [0x0078886D+2652765]\n\tGetHandleVerifier [0x0058002A+520730]\n\tGetHandleVerifier [0x0057EE06+516086]\n\tOrdinal0 [0x0049468B+1787531]\n\tOrdinal0 [0x00498E88+1805960]\n\tOrdinal0 [0x00498F75+1806197]\n\tOrdinal0 [0x004A1DF1+1842673]\n\tBaseThreadInitThunk [0x7705FA29+25]\n\tRtlGetAppContainerNamedObjectPath [0x77637A9E+286]\n\tRtlGetAppContainerNamedObjectPath [0x77637A6E+238]\n",
     "output_type": "error",
     "traceback": [
      "\u001b[1;31m---------------------------------------------------------------------------\u001b[0m",
      "\u001b[1;31mWebDriverException\u001b[0m                        Traceback (most recent call last)",
      "\u001b[1;32m~\\AppData\\Local\\Temp/ipykernel_23528/1571478205.py\u001b[0m in \u001b[0;36m<module>\u001b[1;34m\u001b[0m\n\u001b[0;32m     35\u001b[0m \u001b[1;33m\u001b[0m\u001b[0m\n\u001b[0;32m     36\u001b[0m         \u001b[0mvisiturl\u001b[0m \u001b[1;33m=\u001b[0m \u001b[0mbaseURL\u001b[0m \u001b[1;33m+\u001b[0m \u001b[0mmakes\u001b[0m\u001b[1;33m[\u001b[0m\u001b[0mi\u001b[0m\u001b[1;33m]\u001b[0m\u001b[1;33m.\u001b[0m\u001b[0mlower\u001b[0m\u001b[1;33m(\u001b[0m\u001b[1;33m)\u001b[0m \u001b[1;33m+\u001b[0m \u001b[1;34m'/'\u001b[0m \u001b[1;33m+\u001b[0m \u001b[0mmodels\u001b[0m\u001b[1;33m[\u001b[0m\u001b[0mi\u001b[0m\u001b[1;33m]\u001b[0m\u001b[1;33m.\u001b[0m\u001b[0mlower\u001b[0m\u001b[1;33m(\u001b[0m\u001b[1;33m)\u001b[0m \u001b[1;33m+\u001b[0m \u001b[1;34m'/'\u001b[0m \u001b[1;33m+\u001b[0m \u001b[0mstr\u001b[0m\u001b[1;33m(\u001b[0m\u001b[0mint\u001b[0m\u001b[1;33m(\u001b[0m\u001b[0myears\u001b[0m\u001b[1;33m[\u001b[0m\u001b[0mi\u001b[0m\u001b[1;33m]\u001b[0m\u001b[1;33m)\u001b[0m\u001b[1;33m)\u001b[0m \u001b[1;33m+\u001b[0m \u001b[1;34m'/vin/'\u001b[0m \u001b[1;33m+\u001b[0m \u001b[0mvins\u001b[0m\u001b[1;33m[\u001b[0m\u001b[0mi\u001b[0m\u001b[1;33m]\u001b[0m \u001b[1;33m+\u001b[0m \u001b[1;34m'/'\u001b[0m\u001b[1;33m\u001b[0m\u001b[1;33m\u001b[0m\u001b[0m\n\u001b[1;32m---> 37\u001b[1;33m         \u001b[0mbrowser\u001b[0m\u001b[1;33m.\u001b[0m\u001b[0mvisit\u001b[0m\u001b[1;33m(\u001b[0m\u001b[0mvisiturl\u001b[0m\u001b[1;33m)\u001b[0m\u001b[1;33m\u001b[0m\u001b[1;33m\u001b[0m\u001b[0m\n\u001b[0m\u001b[0;32m     38\u001b[0m         \u001b[0mtime\u001b[0m\u001b[1;33m.\u001b[0m\u001b[0msleep\u001b[0m\u001b[1;33m(\u001b[0m\u001b[0mrandom\u001b[0m\u001b[1;33m.\u001b[0m\u001b[0mrandint\u001b[0m\u001b[1;33m(\u001b[0m\u001b[1;36m2\u001b[0m\u001b[1;33m,\u001b[0m\u001b[1;36m4\u001b[0m\u001b[1;33m)\u001b[0m\u001b[1;33m)\u001b[0m\u001b[1;33m\u001b[0m\u001b[1;33m\u001b[0m\u001b[0m\n\u001b[0;32m     39\u001b[0m \u001b[1;33m\u001b[0m\u001b[0m\n",
      "\u001b[1;32m~\\anaconda3\\envs\\PythonData\\lib\\site-packages\\splinter\\driver\\webdriver\\__init__.py\u001b[0m in \u001b[0;36mvisit\u001b[1;34m(self, url)\u001b[0m\n\u001b[0;32m    312\u001b[0m \u001b[1;33m\u001b[0m\u001b[0m\n\u001b[0;32m    313\u001b[0m     \u001b[1;32mdef\u001b[0m \u001b[0mvisit\u001b[0m\u001b[1;33m(\u001b[0m\u001b[0mself\u001b[0m\u001b[1;33m,\u001b[0m \u001b[0murl\u001b[0m\u001b[1;33m)\u001b[0m\u001b[1;33m:\u001b[0m\u001b[1;33m\u001b[0m\u001b[1;33m\u001b[0m\u001b[0m\n\u001b[1;32m--> 314\u001b[1;33m         \u001b[0mself\u001b[0m\u001b[1;33m.\u001b[0m\u001b[0mdriver\u001b[0m\u001b[1;33m.\u001b[0m\u001b[0mget\u001b[0m\u001b[1;33m(\u001b[0m\u001b[0murl\u001b[0m\u001b[1;33m)\u001b[0m\u001b[1;33m\u001b[0m\u001b[1;33m\u001b[0m\u001b[0m\n\u001b[0m\u001b[0;32m    315\u001b[0m \u001b[1;33m\u001b[0m\u001b[0m\n\u001b[0;32m    316\u001b[0m     \u001b[1;32mdef\u001b[0m \u001b[0mback\u001b[0m\u001b[1;33m(\u001b[0m\u001b[0mself\u001b[0m\u001b[1;33m)\u001b[0m\u001b[1;33m:\u001b[0m\u001b[1;33m\u001b[0m\u001b[1;33m\u001b[0m\u001b[0m\n",
      "\u001b[1;32m~\\anaconda3\\envs\\PythonData\\lib\\site-packages\\selenium\\webdriver\\remote\\webdriver.py\u001b[0m in \u001b[0;36mget\u001b[1;34m(self, url)\u001b[0m\n\u001b[0;32m    440\u001b[0m         \u001b[0mLoads\u001b[0m \u001b[0ma\u001b[0m \u001b[0mweb\u001b[0m \u001b[0mpage\u001b[0m \u001b[1;32min\u001b[0m \u001b[0mthe\u001b[0m \u001b[0mcurrent\u001b[0m \u001b[0mbrowser\u001b[0m \u001b[0msession\u001b[0m\u001b[1;33m.\u001b[0m\u001b[1;33m\u001b[0m\u001b[1;33m\u001b[0m\u001b[0m\n\u001b[0;32m    441\u001b[0m         \"\"\"\n\u001b[1;32m--> 442\u001b[1;33m         \u001b[0mself\u001b[0m\u001b[1;33m.\u001b[0m\u001b[0mexecute\u001b[0m\u001b[1;33m(\u001b[0m\u001b[0mCommand\u001b[0m\u001b[1;33m.\u001b[0m\u001b[0mGET\u001b[0m\u001b[1;33m,\u001b[0m \u001b[1;33m{\u001b[0m\u001b[1;34m'url'\u001b[0m\u001b[1;33m:\u001b[0m \u001b[0murl\u001b[0m\u001b[1;33m}\u001b[0m\u001b[1;33m)\u001b[0m\u001b[1;33m\u001b[0m\u001b[1;33m\u001b[0m\u001b[0m\n\u001b[0m\u001b[0;32m    443\u001b[0m \u001b[1;33m\u001b[0m\u001b[0m\n\u001b[0;32m    444\u001b[0m     \u001b[1;33m@\u001b[0m\u001b[0mproperty\u001b[0m\u001b[1;33m\u001b[0m\u001b[1;33m\u001b[0m\u001b[0m\n",
      "\u001b[1;32m~\\anaconda3\\envs\\PythonData\\lib\\site-packages\\selenium\\webdriver\\remote\\webdriver.py\u001b[0m in \u001b[0;36mexecute\u001b[1;34m(self, driver_command, params)\u001b[0m\n\u001b[0;32m    428\u001b[0m         \u001b[0mresponse\u001b[0m \u001b[1;33m=\u001b[0m \u001b[0mself\u001b[0m\u001b[1;33m.\u001b[0m\u001b[0mcommand_executor\u001b[0m\u001b[1;33m.\u001b[0m\u001b[0mexecute\u001b[0m\u001b[1;33m(\u001b[0m\u001b[0mdriver_command\u001b[0m\u001b[1;33m,\u001b[0m \u001b[0mparams\u001b[0m\u001b[1;33m)\u001b[0m\u001b[1;33m\u001b[0m\u001b[1;33m\u001b[0m\u001b[0m\n\u001b[0;32m    429\u001b[0m         \u001b[1;32mif\u001b[0m \u001b[0mresponse\u001b[0m\u001b[1;33m:\u001b[0m\u001b[1;33m\u001b[0m\u001b[1;33m\u001b[0m\u001b[0m\n\u001b[1;32m--> 430\u001b[1;33m             \u001b[0mself\u001b[0m\u001b[1;33m.\u001b[0m\u001b[0merror_handler\u001b[0m\u001b[1;33m.\u001b[0m\u001b[0mcheck_response\u001b[0m\u001b[1;33m(\u001b[0m\u001b[0mresponse\u001b[0m\u001b[1;33m)\u001b[0m\u001b[1;33m\u001b[0m\u001b[1;33m\u001b[0m\u001b[0m\n\u001b[0m\u001b[0;32m    431\u001b[0m             response['value'] = self._unwrap_value(\n\u001b[0;32m    432\u001b[0m                 response.get('value', None))\n",
      "\u001b[1;32m~\\anaconda3\\envs\\PythonData\\lib\\site-packages\\selenium\\webdriver\\remote\\errorhandler.py\u001b[0m in \u001b[0;36mcheck_response\u001b[1;34m(self, response)\u001b[0m\n\u001b[0;32m    245\u001b[0m                 \u001b[0malert_text\u001b[0m \u001b[1;33m=\u001b[0m \u001b[0mvalue\u001b[0m\u001b[1;33m[\u001b[0m\u001b[1;34m'alert'\u001b[0m\u001b[1;33m]\u001b[0m\u001b[1;33m.\u001b[0m\u001b[0mget\u001b[0m\u001b[1;33m(\u001b[0m\u001b[1;34m'text'\u001b[0m\u001b[1;33m)\u001b[0m\u001b[1;33m\u001b[0m\u001b[1;33m\u001b[0m\u001b[0m\n\u001b[0;32m    246\u001b[0m             \u001b[1;32mraise\u001b[0m \u001b[0mexception_class\u001b[0m\u001b[1;33m(\u001b[0m\u001b[0mmessage\u001b[0m\u001b[1;33m,\u001b[0m \u001b[0mscreen\u001b[0m\u001b[1;33m,\u001b[0m \u001b[0mstacktrace\u001b[0m\u001b[1;33m,\u001b[0m \u001b[0malert_text\u001b[0m\u001b[1;33m)\u001b[0m  \u001b[1;31m# type: ignore[call-arg]  # mypy is not smart enough here\u001b[0m\u001b[1;33m\u001b[0m\u001b[1;33m\u001b[0m\u001b[0m\n\u001b[1;32m--> 247\u001b[1;33m         \u001b[1;32mraise\u001b[0m \u001b[0mexception_class\u001b[0m\u001b[1;33m(\u001b[0m\u001b[0mmessage\u001b[0m\u001b[1;33m,\u001b[0m \u001b[0mscreen\u001b[0m\u001b[1;33m,\u001b[0m \u001b[0mstacktrace\u001b[0m\u001b[1;33m)\u001b[0m\u001b[1;33m\u001b[0m\u001b[1;33m\u001b[0m\u001b[0m\n\u001b[0m\u001b[0;32m    248\u001b[0m \u001b[1;33m\u001b[0m\u001b[0m\n\u001b[0;32m    249\u001b[0m     \u001b[1;32mdef\u001b[0m \u001b[0m_value_or_default\u001b[0m\u001b[1;33m(\u001b[0m\u001b[0mself\u001b[0m\u001b[1;33m,\u001b[0m \u001b[0mobj\u001b[0m\u001b[1;33m:\u001b[0m \u001b[0mMapping\u001b[0m\u001b[1;33m[\u001b[0m\u001b[0m_KT\u001b[0m\u001b[1;33m,\u001b[0m \u001b[0m_VT\u001b[0m\u001b[1;33m]\u001b[0m\u001b[1;33m,\u001b[0m \u001b[0mkey\u001b[0m\u001b[1;33m:\u001b[0m \u001b[0m_KT\u001b[0m\u001b[1;33m,\u001b[0m \u001b[0mdefault\u001b[0m\u001b[1;33m:\u001b[0m \u001b[0m_VT\u001b[0m\u001b[1;33m)\u001b[0m \u001b[1;33m->\u001b[0m \u001b[0m_VT\u001b[0m\u001b[1;33m:\u001b[0m\u001b[1;33m\u001b[0m\u001b[1;33m\u001b[0m\u001b[0m\n",
      "\u001b[1;31mWebDriverException\u001b[0m: Message: unknown error: unexpected command response\n  (Session info: chrome=103.0.5060.114)\nStacktrace:\nBacktrace:\n\tOrdinal0 [0x004F6463+2188387]\n\tOrdinal0 [0x0048E461+1762401]\n\tOrdinal0 [0x003A3D78+802168]\n\tOrdinal0 [0x00397210+750096]\n\tOrdinal0 [0x0039675A+747354]\n\tOrdinal0 [0x00395D3F+744767]\n\tOrdinal0 [0x0039557C+742780]\n\tOrdinal0 [0x003A9BF3+826355]\n\tOrdinal0 [0x003FCF6D+1167213]\n\tOrdinal0 [0x003EC5F6+1099254]\n\tOrdinal0 [0x003C6BE0+945120]\n\tOrdinal0 [0x003C7AD6+948950]\n\tGetHandleVerifier [0x007971F2+2712546]\n\tGetHandleVerifier [0x0078886D+2652765]\n\tGetHandleVerifier [0x0058002A+520730]\n\tGetHandleVerifier [0x0057EE06+516086]\n\tOrdinal0 [0x0049468B+1787531]\n\tOrdinal0 [0x00498E88+1805960]\n\tOrdinal0 [0x00498F75+1806197]\n\tOrdinal0 [0x004A1DF1+1842673]\n\tBaseThreadInitThunk [0x7705FA29+25]\n\tRtlGetAppContainerNamedObjectPath [0x77637A9E+286]\n\tRtlGetAppContainerNamedObjectPath [0x77637A6E+238]\n"
     ]
    }
   ],
   "source": [
    "\n",
    "baseURL = \"https://www.edmunds.com/\"\n",
    "start = 10\n",
    "end = 50\n",
    "# start with just 1 loop\n",
    "for i in range(start,end):\n",
    "    \n",
    "    if msrps[i] == 0:\n",
    "        if models[i] == 'Bronco':\n",
    "            years[i] == 2022\n",
    "            makes[i] == 'Ford'\n",
    "            \n",
    "        elif models[i] == 'Maverick':\n",
    "            years[i] == 2022\n",
    "            makes[i] == 'Ford'\n",
    "            \n",
    "        elif models[i] == 'Wrangler':\n",
    "            if not(years[i] > 0):\n",
    "                years[i] == 2022\n",
    "            makes[i] == 'Jeep'\n",
    "            \n",
    "        elif models[i] == 'Hummer':\n",
    "            years[i] == 2022\n",
    "            makes[i] == 'GMC'\n",
    "            \n",
    "        elif models[i] == 'Blazer':\n",
    "            if not(years[i] > 0):\n",
    "                years[i] == 2022\n",
    "            makes[i] == 'Chevrolet'\n",
    "            \n",
    "        elif models[i] == 'Tundra':\n",
    "            if not(years[i] > 0):\n",
    "                years[i] == 2022\n",
    "            makes[i] == 'Toyota'\n",
    "            \n",
    "            \n",
    "        visiturl = baseURL + makes[i].lower() + '/' + models[i].lower() + '/' + str(int(years[i])) + '/vin/' + vins[i] + '/'\n",
    "        browser.visit(visiturl)\n",
    "        time.sleep(random.randint(2,4))\n",
    "\n",
    "        # place into try / except block:\n",
    "        try:\n",
    "            \n",
    "            \n",
    "            print(f\"Adding {i} of {end}\")\n",
    "            # scrape using find by tag (section).  Should return list.\n",
    "            \n",
    "            msrp_search = browser.find_by_tag('span')\n",
    "            for m in msrp_search:\n",
    "                if m['data-test'] == 'vdp-price-row':\n",
    "                    msrps[i] = int(m.text.replace('$','').replace(',',''))\n",
    "#             msrps[i] = int(msrp_result.replace('$','').replace(',',''))\n",
    "            # add columns and data to dataframe (temp_df['year'] = [year])\n",
    "            if msrps[i] == 0:\n",
    "                msrps[i] = -1\n",
    "            print('.', end='')\n",
    "\n",
    "            \n",
    "            # append new dataframe to scrape_cars_df if successful\n",
    "            \n",
    "\n",
    "#             cars_df = pd.concat([cars_df, temp_df], axis=0, ignore_index=True)\n",
    "            print(' Success!')\n",
    "\n",
    "\n",
    "        # except: add i into failed list\n",
    "        except:\n",
    "            failed_tries.append(i)\n",
    "            print(' Error found.')\n",
    "            msrps[i] = '-1'\n",
    "            \n",
    "cg_df['Model:'] = models\n",
    "cg_df['Make:'] = makes\n",
    "cg_df['Year:'] = years\n",
    "\n",
    "cg_df['MSRP:'] = msrps\n",
    "\n",
    "cg_df.to_csv(f'../Resources/msrp.csv', index=False)"
   ]
  },
  {
   "cell_type": "code",
   "execution_count": 35,
   "id": "4c7222d2",
   "metadata": {
    "scrolled": true
   },
   "outputs": [
    {
     "data": {
      "text/plain": [
       "30"
      ]
     },
     "execution_count": 35,
     "metadata": {},
     "output_type": "execute_result"
    }
   ],
   "source": [
    "len(failed_tries)"
   ]
  },
  {
   "cell_type": "code",
   "execution_count": 71,
   "id": "1ecf8c71",
   "metadata": {},
   "outputs": [
    {
     "data": {
      "text/plain": [
       "45740"
      ]
     },
     "execution_count": 71,
     "metadata": {},
     "output_type": "execute_result"
    }
   ],
   "source": [
    "msrp_search = browser.find_by_tag('span')\n",
    "for m in msrp_search:\n",
    "    if m['data-test'] == 'vdp-price-row':\n",
    "        msrp_result = m.text\n",
    "msrps[i] = int(msrp_result.replace('$','').replace(',',''))"
   ]
  },
  {
   "cell_type": "code",
   "execution_count": 81,
   "id": "5d4eecce",
   "metadata": {},
   "outputs": [
    {
     "name": "stdout",
     "output_type": "stream",
     "text": [
      "https://www.edmunds.com/ ford / bronco / 2022 /vin/ 1FMDE5BH9NLB13062 /\n"
     ]
    },
    {
     "data": {
      "text/plain": [
       "'https://www.edmunds.com/ford/bronco/2022/vin/1FMDE5BH9NLB13062/'"
      ]
     },
     "execution_count": 81,
     "metadata": {},
     "output_type": "execute_result"
    }
   ],
   "source": [
    "# visiturl = baseURL + makes[i].lower + '/' + models[i].lower + '/' + str(int(years[i])) + '/vin/' + vins[i] + '/'\n",
    "i = 5\n",
    "print(baseURL, makes[i].lower() , '/' , models[i].lower() , '/' , str(int(years[i])) , '/vin/' , vins[i] , '/')\n",
    "visiturl = baseURL + makes[i].lower() + '/' + models[i].lower() + '/' + str(int(years[i])) + '/vin/' + vins[i] + '/'\n",
    "visiturl"
   ]
  },
  {
   "cell_type": "code",
   "execution_count": 146,
   "id": "9a7319ad",
   "metadata": {
    "scrolled": false
   },
   "outputs": [
    {
     "name": "stdout",
     "output_type": "stream",
     "text": [
      "0\n",
      "0\n",
      "37800\n",
      "0\n",
      "41905\n",
      "0\n",
      "0\n",
      "0\n",
      "38365\n",
      "36295\n",
      "0\n",
      "0\n",
      "0\n",
      "0\n",
      "0\n",
      "0\n",
      "0\n",
      "0\n",
      "0\n",
      "0\n"
     ]
    }
   ],
   "source": [
    "for m in msrps[0:20]:\n",
    "    print(m)"
   ]
  },
  {
   "cell_type": "code",
   "execution_count": 148,
   "id": "e4aa68f5",
   "metadata": {},
   "outputs": [
    {
     "data": {
      "text/plain": [
       "True"
      ]
     },
     "execution_count": 148,
     "metadata": {},
     "output_type": "execute_result"
    }
   ],
   "source": [
    "msrps[0] == 0"
   ]
  }
 ],
 "metadata": {
  "kernelspec": {
   "display_name": "Python 3 (ipykernel)",
   "language": "python",
   "name": "python3"
  },
  "language_info": {
   "codemirror_mode": {
    "name": "ipython",
    "version": 3
   },
   "file_extension": ".py",
   "mimetype": "text/x-python",
   "name": "python",
   "nbconvert_exporter": "python",
   "pygments_lexer": "ipython3",
   "version": "3.8.12"
  }
 },
 "nbformat": 4,
 "nbformat_minor": 5
}
