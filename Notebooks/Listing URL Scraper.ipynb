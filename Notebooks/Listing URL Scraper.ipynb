{
 "cells": [
  {
   "cell_type": "code",
   "execution_count": 1,
   "id": "1d761d1c",
   "metadata": {},
   "outputs": [],
   "source": [
    "import pandas as pd\n",
    "from splinter import Browser\n",
    "from bs4 import BeautifulSoup\n",
    "from webdriver_manager.chrome import ChromeDriverManager\n"
   ]
  },
  {
   "cell_type": "code",
   "execution_count": 2,
   "id": "0f38a621",
   "metadata": {},
   "outputs": [
    {
     "name": "stdout",
     "output_type": "stream",
     "text": [
      "\n"
     ]
    },
    {
     "name": "stderr",
     "output_type": "stream",
     "text": [
      "[WDM] - ====== WebDriver manager ======\n",
      "[WDM] - Current google-chrome version is 102.0.5005\n",
      "[WDM] - Get LATEST chromedriver version for 102.0.5005 google-chrome\n",
      "[WDM] - About to download new driver from https://chromedriver.storage.googleapis.com/102.0.5005.61/chromedriver_win32.zip\n",
      "[WDM] - Driver has been saved in cache [C:\\Users\\Rob\\.wdm\\drivers\\chromedriver\\win32\\102.0.5005.61]\n"
     ]
    }
   ],
   "source": [
    "# Setup splinter\n",
    "executable_path = {'executable_path': ChromeDriverManager().install()}\n",
    "browser = Browser('chrome', **executable_path, headless=False)"
   ]
  },
  {
   "cell_type": "code",
   "execution_count": 24,
   "id": "f90a80e6",
   "metadata": {},
   "outputs": [],
   "source": [
    "# setup variables for scraping\n",
    "zipcodes = [76012]\n",
    "\n",
    "radius = 50\n",
    "\n",
    "cargurus = {\n",
    "    'ford': {\n",
    "        'bronco': ['d320'],\n",
    "        'maverick': ['d1293']\n",
    "    }\n",
    "    \n",
    "    ,'gmc': {\n",
    "        'hummer ev': ['d3104']\n",
    "    }\n",
    "    \n",
    "    ,'chevrolet': {\n",
    "        'blazer': ['d602']\n",
    "    }\n",
    "    \n",
    "    ,'jeep': {\n",
    "        'wrangler' : ['d494', 'd2412', 'd3134']\n",
    "    }\n",
    "    \n",
    "    ,'toyota': {\n",
    "        'tundra' : ['d313']\n",
    "    }\n",
    "}"
   ]
  },
  {
   "cell_type": "code",
   "execution_count": 25,
   "id": "18022cb1",
   "metadata": {},
   "outputs": [
    {
     "name": "stdout",
     "output_type": "stream",
     "text": [
      "https://www.cargurus.com/Cars/new/searchresults.action?zip=76012&showNegotiable=true&sortDir=ASC&sourceContext=homePageNewCarTab_false_0&distance=50&sortType=PRICE&entitySelectingHelper.selectedEntity=d320\n",
      "\n",
      "https://www.cargurus.com/Cars/new/searchresults.action?zip=76012&showNegotiable=true&sortDir=ASC&sourceContext=homePageNewCarTab_false_0&distance=50&sortType=PRICE&entitySelectingHelper.selectedEntity=d1293\n",
      "\n",
      "https://www.cargurus.com/Cars/new/searchresults.action?zip=76012&showNegotiable=true&sortDir=ASC&sourceContext=homePageNewCarTab_false_0&distance=50&sortType=PRICE&entitySelectingHelper.selectedEntity=d3104\n",
      "\n",
      "https://www.cargurus.com/Cars/new/searchresults.action?zip=76012&showNegotiable=true&sortDir=ASC&sourceContext=homePageNewCarTab_false_0&distance=50&sortType=PRICE&entitySelectingHelper.selectedEntity=d602\n",
      "\n",
      "https://www.cargurus.com/Cars/new/searchresults.action?zip=76012&showNegotiable=true&sortDir=ASC&sourceContext=homePageNewCarTab_false_0&distance=50&sortType=PRICE&entitySelectingHelper.selectedEntity=d494\n",
      "\n",
      "https://www.cargurus.com/Cars/new/searchresults.action?zip=76012&showNegotiable=true&sortDir=ASC&sourceContext=homePageNewCarTab_false_0&distance=50&sortType=PRICE&entitySelectingHelper.selectedEntity=d2412\n",
      "\n",
      "https://www.cargurus.com/Cars/new/searchresults.action?zip=76012&showNegotiable=true&sortDir=ASC&sourceContext=homePageNewCarTab_false_0&distance=50&sortType=PRICE&entitySelectingHelper.selectedEntity=d3134\n",
      "\n"
     ]
    }
   ],
   "source": [
    "scrapeURLs = []\n",
    "\n",
    "for zipcode in zipcodes:\n",
    "    for key in cargurus:\n",
    "        make = cargurus[key]\n",
    "        makekey = key\n",
    "\n",
    "        for key in make:\n",
    "            model = make[key]\n",
    "            modelkey = key\n",
    "            \n",
    "            for modelcode in model:\n",
    "                    \n",
    "#                 fakeurl = f'make: {makekey}   model: {modelkey}   modelcode: {modelcode}'\n",
    "#                 print(fakeurl)\n",
    "\n",
    "                url = f'https://www.cargurus.com/Cars/new/searchresults.action?zip={zipcode}&showNegotiable=true&sortDir=ASC&sourceContext=homePageNewCarTab_false_0&distance=50&sortType=PRICE&entitySelectingHelper.selectedEntity={modelcode}'\n",
    "                \n",
    "                scrapeURLs.append(url)\n",
    "for url in scrapeURLs:\n",
    "    print(url + '\\n')"
   ]
  },
  {
   "cell_type": "code",
   "execution_count": null,
   "id": "c8dc64ff",
   "metadata": {},
   "outputs": [],
   "source": []
  }
 ],
 "metadata": {
  "kernelspec": {
   "display_name": "Python 3 (ipykernel)",
   "language": "python",
   "name": "python3"
  },
  "language_info": {
   "codemirror_mode": {
    "name": "ipython",
    "version": 3
   },
   "file_extension": ".py",
   "mimetype": "text/x-python",
   "name": "python",
   "nbconvert_exporter": "python",
   "pygments_lexer": "ipython3",
   "version": "3.8.12"
  }
 },
 "nbformat": 4,
 "nbformat_minor": 5
}
