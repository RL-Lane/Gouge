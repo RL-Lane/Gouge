{
 "cells": [
  {
   "cell_type": "code",
   "execution_count": 3,
   "id": "480fdd9f",
   "metadata": {},
   "outputs": [],
   "source": [
    "import pandas as pd\n",
    "from splinter import Browser\n",
    "from bs4 import BeautifulSoup as bs\n",
    "from webdriver_manager.chrome import ChromeDriverManager\n",
    "import time \n",
    "import requests"
   ]
  },
  {
   "cell_type": "code",
   "execution_count": 2,
   "id": "da3f1e84",
   "metadata": {},
   "outputs": [
    {
     "name": "stdout",
     "output_type": "stream",
     "text": [
      "\n"
     ]
    },
    {
     "name": "stderr",
     "output_type": "stream",
     "text": [
      "[WDM] - ====== WebDriver manager ======\n",
      "[WDM] - Current google-chrome version is 103.0.5060\n",
      "[WDM] - Get LATEST chromedriver version for 103.0.5060 google-chrome\n",
      "[WDM] - About to download new driver from https://chromedriver.storage.googleapis.com/103.0.5060.53/chromedriver_win32.zip\n",
      "[WDM] - Driver has been saved in cache [C:\\Users\\Rob\\.wdm\\drivers\\chromedriver\\win32\\103.0.5060.53]\n"
     ]
    }
   ],
   "source": [
    "# Setup splinter\n",
    "executable_path = {'executable_path': ChromeDriverManager().install()}\n",
    "browser = Browser('chrome', **executable_path, headless=False)"
   ]
  },
  {
   "cell_type": "code",
   "execution_count": 38,
   "id": "0f60cc36",
   "metadata": {},
   "outputs": [],
   "source": [
    "baseurl = 'https://www.cargurus.com/Cars/new/searchresults.action?zip=76012&showNegotiable=true&sortDir=ASC&sourceContext=homePageNewCarTab_false_0&distance=50&sortType=PRICE&entitySelectingHelper.selectedEntity=d337'\n",
    "# header = {'User-agent': 'Mozilla/5.0 (Macintosh; Intel Mac OS X 10_15_7) AppleWebKit/605.1.15 (KHTML, like Gecko) Version/15.4 Safari/605.1.15'}\n",
    "# r = requests.get(baseurl, headers=header)\n",
    "browser.visit(baseurl)"
   ]
  },
  {
   "cell_type": "code",
   "execution_count": 6,
   "id": "1c225be7",
   "metadata": {},
   "outputs": [],
   "source": [
    "# r.content"
   ]
  },
  {
   "cell_type": "code",
   "execution_count": 47,
   "id": "42667609",
   "metadata": {},
   "outputs": [],
   "source": [
    "spans = browser.find_by_tag(\"span\")"
   ]
  },
  {
   "cell_type": "code",
   "execution_count": 54,
   "id": "1bfba224",
   "metadata": {},
   "outputs": [
    {
     "data": {
      "text/plain": [
       "64"
      ]
     },
     "execution_count": 54,
     "metadata": {},
     "output_type": "execute_result"
    }
   ],
   "source": [
    "# find number of pages to visit for this search set\n",
    "spans = browser.find_by_tag(\"span\")\n",
    "\n",
    "for span in spans:\n",
    "    if \"</strong> of <strong>\" in span.html:\n",
    "        page_counter_html = span.html\n",
    "page_results = int(page_counter_html.split(\" - \")[1].split(\"</strong>\")[0])\n",
    "total_results = int(page_counter_html.split(\"of <strong>\")[1].split(\"</strong>\")[0])\n",
    "\n",
    "results_mod = total_results % page_results\n",
    "numpages = int(total_results / page_results)\n",
    "if results_mod != 0:\n",
    "    numpages += 1\n",
    "    \n",
    "numpages"
   ]
  },
  {
   "cell_type": "code",
   "execution_count": 56,
   "id": "d836334f",
   "metadata": {},
   "outputs": [
    {
     "data": {
      "text/plain": [
       "['',\n",
       " '#resultsPage=2',\n",
       " '#resultsPage=3',\n",
       " '#resultsPage=4',\n",
       " '#resultsPage=5',\n",
       " '#resultsPage=6',\n",
       " '#resultsPage=7',\n",
       " '#resultsPage=8',\n",
       " '#resultsPage=9',\n",
       " '#resultsPage=10',\n",
       " '#resultsPage=11',\n",
       " '#resultsPage=12',\n",
       " '#resultsPage=13',\n",
       " '#resultsPage=14',\n",
       " '#resultsPage=15',\n",
       " '#resultsPage=16',\n",
       " '#resultsPage=17',\n",
       " '#resultsPage=18',\n",
       " '#resultsPage=19',\n",
       " '#resultsPage=20',\n",
       " '#resultsPage=21',\n",
       " '#resultsPage=22',\n",
       " '#resultsPage=23',\n",
       " '#resultsPage=24',\n",
       " '#resultsPage=25',\n",
       " '#resultsPage=26',\n",
       " '#resultsPage=27',\n",
       " '#resultsPage=28',\n",
       " '#resultsPage=29',\n",
       " '#resultsPage=30',\n",
       " '#resultsPage=31',\n",
       " '#resultsPage=32',\n",
       " '#resultsPage=33',\n",
       " '#resultsPage=34',\n",
       " '#resultsPage=35',\n",
       " '#resultsPage=36',\n",
       " '#resultsPage=37',\n",
       " '#resultsPage=38',\n",
       " '#resultsPage=39',\n",
       " '#resultsPage=40',\n",
       " '#resultsPage=41',\n",
       " '#resultsPage=42',\n",
       " '#resultsPage=43',\n",
       " '#resultsPage=44',\n",
       " '#resultsPage=45',\n",
       " '#resultsPage=46',\n",
       " '#resultsPage=47',\n",
       " '#resultsPage=48',\n",
       " '#resultsPage=49',\n",
       " '#resultsPage=50',\n",
       " '#resultsPage=51',\n",
       " '#resultsPage=52',\n",
       " '#resultsPage=53',\n",
       " '#resultsPage=54',\n",
       " '#resultsPage=55',\n",
       " '#resultsPage=56',\n",
       " '#resultsPage=57',\n",
       " '#resultsPage=58',\n",
       " '#resultsPage=59',\n",
       " '#resultsPage=60',\n",
       " '#resultsPage=61',\n",
       " '#resultsPage=62',\n",
       " '#resultsPage=63',\n",
       " '#resultsPage=64']"
      ]
     },
     "execution_count": 56,
     "metadata": {},
     "output_type": "execute_result"
    }
   ],
   "source": [
    "# generate suffixes\n",
    "suffixes = ['']\n",
    "for i in range(1,numpages):\n",
    "    suffixes.append(f'#resultsPage={i+1}')\n",
    "suffixes"
   ]
  },
  {
   "cell_type": "code",
   "execution_count": null,
   "id": "e44f07af",
   "metadata": {},
   "outputs": [],
   "source": []
  }
 ],
 "metadata": {
  "kernelspec": {
   "display_name": "Python 3 (ipykernel)",
   "language": "python",
   "name": "python3"
  },
  "language_info": {
   "codemirror_mode": {
    "name": "ipython",
    "version": 3
   },
   "file_extension": ".py",
   "mimetype": "text/x-python",
   "name": "python",
   "nbconvert_exporter": "python",
   "pygments_lexer": "ipython3",
   "version": "3.8.12"
  }
 },
 "nbformat": 4,
 "nbformat_minor": 5
}
