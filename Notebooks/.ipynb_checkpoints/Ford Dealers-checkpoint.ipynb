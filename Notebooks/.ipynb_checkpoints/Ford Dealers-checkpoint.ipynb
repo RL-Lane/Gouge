{
 "cells": [
  {
   "cell_type": "markdown",
   "id": "54a8f652",
   "metadata": {},
   "source": [
    "# Ford Dealers\n",
    "This notebook only gathers data (especially website URLs) of Ford dealers that are within the states list.  This project is starting small, but may later expand to more states (and thus many more sites).  This project may additionally expand into more brands at a later date."
   ]
  },
  {
   "cell_type": "code",
   "execution_count": 1,
   "id": "915ac1da",
   "metadata": {},
   "outputs": [],
   "source": [
    "import pandas"
   ]
  },
  {
   "cell_type": "code",
   "execution_count": 2,
   "id": "3bde2f83",
   "metadata": {},
   "outputs": [],
   "source": [
    "states = ['me']\n",
    "base_url = 'https://www.ford.com/dealerships/dealer-directory/'\n"
   ]
  },
  {
   "cell_type": "code",
   "execution_count": null,
   "id": "b309c6b2",
   "metadata": {},
   "outputs": [],
   "source": [
    "# notes: all dealers are inside a single <ul class=\"fgx-dealer-list\">\n",
    "# each dealer is in its own <li class=\"dealer-item\">\n",
    "\n",
    "# scrape page for: Dealer name, address, \"Dealer Details\" url\n",
    "\n",
    "# dealer name: <a class=\"dealer-list-heading\"> text or content\n",
    "# address: <p class=\"address\"> text or content\n",
    "# link is in <a class=\"btn btn-primary\" href>\n",
    "\n",
    "for state in states:\n",
    "    "
   ]
  }
 ],
 "metadata": {
  "kernelspec": {
   "display_name": "Python 3 (ipykernel)",
   "language": "python",
   "name": "python3"
  },
  "language_info": {
   "codemirror_mode": {
    "name": "ipython",
    "version": 3
   },
   "file_extension": ".py",
   "mimetype": "text/x-python",
   "name": "python",
   "nbconvert_exporter": "python",
   "pygments_lexer": "ipython3",
   "version": "3.8.12"
  }
 },
 "nbformat": 4,
 "nbformat_minor": 5
}
